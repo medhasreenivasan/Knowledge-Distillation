{
  "cells": [
    {
      "cell_type": "code",
      "execution_count": null,
      "id": "c45b5b57-fb80-4947-8142-f58b2ccf3fb4",
      "metadata": {
        "id": "c45b5b57-fb80-4947-8142-f58b2ccf3fb4"
      },
      "outputs": [],
      "source": [
        "import torch"
      ]
    },
    {
      "cell_type": "code",
      "execution_count": null,
      "id": "7e5b2d10-5c14-42d6-aa87-5d636eecb9e3",
      "metadata": {
        "id": "7e5b2d10-5c14-42d6-aa87-5d636eecb9e3",
        "outputId": "cdc98207-21ff-422d-9e42-4cd6cb6efee1"
      },
      "outputs": [
        {
          "data": {
            "text/plain": [
              "True"
            ]
          },
          "execution_count": 2,
          "metadata": {},
          "output_type": "execute_result"
        }
      ],
      "source": [
        "torch.cuda.is_available()"
      ]
    },
    {
      "cell_type": "code",
      "execution_count": null,
      "id": "efd33344-3832-4349-9545-729626e30563",
      "metadata": {
        "id": "efd33344-3832-4349-9545-729626e30563",
        "outputId": "f5f738ad-df23-4815-ae8c-77f70cb57d37"
      },
      "outputs": [
        {
          "name": "stdout",
          "output_type": "stream",
          "text": [
            "Distillation_basic.ipynb              convnext_model_extended.pth\n",
            "Swin_t_results.ipynb                  \u001b[0m\u001b[01;34mdata\u001b[0m/\n",
            "Untitled1.ipynb                       resnet50_baseline.pth\n",
            "convNext_results.ipynb                swin_distilled.pth\n",
            "conv_self_kd.pth                      swin_model.pth\n",
            "convnext_model.pth                    t4_results.txt\n",
            "convnext_model_baseline.pth           train.csv\n",
            "convnext_model_baseline_extended.pth  \u001b[01;34mtrain_images\u001b[0m/\n",
            "convnext_model_before.pth             train_images.zip\n"
          ]
        }
      ],
      "source": [
        "ls"
      ]
    },
    {
      "cell_type": "code",
      "execution_count": null,
      "id": "80edb45a-d181-42ad-81cb-c7d4bb0328ee",
      "metadata": {
        "id": "80edb45a-d181-42ad-81cb-c7d4bb0328ee"
      },
      "outputs": [],
      "source": [
        "import os\n",
        "os.environ[\"CUDA_DEVICE_ORDER\"] = \"PCI_BUS_ID\"\n",
        "os.environ[\"CUDA_VISIBLE_DEVICES\"] = \"0\""
      ]
    },
    {
      "cell_type": "code",
      "execution_count": null,
      "id": "735884fd-1131-4a6f-a80f-e74cea64e2dc",
      "metadata": {
        "id": "735884fd-1131-4a6f-a80f-e74cea64e2dc"
      },
      "outputs": [],
      "source": [
        "if torch.cuda.is_available():\n",
        "  device = 'cuda'\n",
        "else:\n",
        "  device = 'cpu'"
      ]
    },
    {
      "cell_type": "code",
      "execution_count": null,
      "id": "5812f502-af07-4a82-b023-cb1738f3074d",
      "metadata": {
        "id": "5812f502-af07-4a82-b023-cb1738f3074d"
      },
      "outputs": [],
      "source": [
        "import random\n",
        "import numpy as np\n",
        "import pandas as pd\n",
        "import matplotlib.pyplot as plt\n",
        "#import seaborn as sns\n",
        "from sklearn.model_selection import train_test_split"
      ]
    },
    {
      "cell_type": "code",
      "execution_count": null,
      "id": "76be6a5d-0f83-4994-bb30-f9d30e66e0b6",
      "metadata": {
        "id": "76be6a5d-0f83-4994-bb30-f9d30e66e0b6"
      },
      "outputs": [],
      "source": [
        "import torch\n",
        "#import torchmetrics\n",
        "from torch import nn, optim\n",
        "from torch.nn import functional as F\n",
        "from torch.utils.data import DataLoader\n",
        "from torchvision import transforms, datasets, models"
      ]
    },
    {
      "cell_type": "code",
      "execution_count": null,
      "id": "c245a83a-6a3d-46c2-970d-bc278388949d",
      "metadata": {
        "id": "c245a83a-6a3d-46c2-970d-bc278388949d"
      },
      "outputs": [],
      "source": [
        "import pandas as pd\n",
        "import numpy as np\n",
        "from skimage import io, transform\n",
        "import matplotlib.pyplot as plt\n",
        "import os\n",
        "import torch\n",
        "from torch.utils.data import DataLoader\n",
        "from torchvision import transforms, datasets, models\n",
        "from torch.utils.data import Dataset"
      ]
    },
    {
      "cell_type": "code",
      "execution_count": null,
      "id": "64f7fc77-fcd2-4f56-a900-680f77c16f22",
      "metadata": {
        "id": "64f7fc77-fcd2-4f56-a900-680f77c16f22"
      },
      "outputs": [],
      "source": [
        "from PIL import Image\n"
      ]
    },
    {
      "cell_type": "code",
      "execution_count": null,
      "id": "551f2dba-05df-4119-b5a6-26e2534c1cab",
      "metadata": {
        "id": "551f2dba-05df-4119-b5a6-26e2534c1cab"
      },
      "outputs": [],
      "source": [
        "## create a custom class\n",
        "class RetinopathyDataset(Dataset):\n",
        "  \"\"\" Retinopathy Dataset \"\"\"\n",
        "  def __init__(self, csv_file, root_dir, transform=None):\n",
        "    \"\"\"\n",
        "    Arguments:\n",
        "        csv_file (string): Path to the csv file with labels.\n",
        "        root_dir (string): Directory with all the images.\n",
        "        transform (callable, optional): Optional transform to be applied\n",
        "            on a sample.\n",
        "    \"\"\"\n",
        "    self.severity_readings = pd.read_csv(csv_file)\n",
        "    self.root_dir = root_dir\n",
        "    self.transform = transforms.Compose([transforms.Resize((224, 224)),transforms.ToTensor()])\n",
        "\n",
        "  def __len__(self):\n",
        "      return len(self.severity_readings)\n",
        "\n",
        "  def __getitem__(self, idx):\n",
        "      if torch.is_tensor(idx):\n",
        "          idx = idx.tolist()\n",
        "\n",
        "      img_name = os.path.join(self.root_dir, self.severity_readings.iloc[idx, 0]+'.png')\n",
        "      #image = io.imread(img_name)\n",
        "      image = Image.open(img_name).convert('RGB')\n",
        "      rating = self.severity_readings.iloc[idx,1]\n",
        "      sample = (image,rating)\n",
        "\n",
        "      if self.transform:\n",
        "        #image_tensor = torch.tensor(sample[0])\n",
        "        image = self.transform(image)\n",
        "\n",
        "      return image,rating\n"
      ]
    },
    {
      "cell_type": "code",
      "execution_count": null,
      "id": "47d88cda-42a1-4b01-9eb1-c09456176fde",
      "metadata": {
        "id": "47d88cda-42a1-4b01-9eb1-c09456176fde"
      },
      "outputs": [],
      "source": [
        "full_dataset = RetinopathyDataset(csv_file='train.csv', root_dir='train_images/')\n",
        "\n",
        "# Get indices for train and test sets\n",
        "indices = list(range(len(full_dataset)))\n",
        "train_indices, test_indices = train_test_split(indices, test_size=0.2, random_state=42)\n",
        "\n",
        "# Create training and testing datasets\n",
        "train_dataset = torch.utils.data.Subset(full_dataset, train_indices)\n",
        "test_dataset = torch.utils.data.Subset(full_dataset, test_indices)"
      ]
    },
    {
      "cell_type": "code",
      "execution_count": null,
      "id": "68e2aad9-0c7b-424f-a721-5759008ba108",
      "metadata": {
        "id": "68e2aad9-0c7b-424f-a721-5759008ba108",
        "outputId": "5a446676-e70d-406a-edcd-fcc8f0445b06"
      },
      "outputs": [
        {
          "data": {
            "text/plain": [
              "733"
            ]
          },
          "execution_count": 12,
          "metadata": {},
          "output_type": "execute_result"
        }
      ],
      "source": [
        "len(test_dataset)"
      ]
    },
    {
      "cell_type": "code",
      "execution_count": null,
      "id": "17312909-3daf-42e4-b329-ecf5d6b322d5",
      "metadata": {
        "id": "17312909-3daf-42e4-b329-ecf5d6b322d5",
        "outputId": "350e9ba9-4a17-4433-e98a-df37d554c2fc"
      },
      "outputs": [
        {
          "data": {
            "image/png": "[encoded data removed]",
            "text/plain": [
              "<Figure size 640x480 with 1 Axes>"
            ]
          },
          "metadata": {},
          "output_type": "display_data"
        }
      ],
      "source": [
        "\n",
        "## sample image from train dataset\n",
        "image_array = train_dataset[12][0].numpy()\n",
        "\n",
        "# Transpose the array to match the expected order for image plotting (H, W, C)\n",
        "image_array = image_array.transpose(1, 2, 0)\n",
        "\n",
        "# Display the image using Matplotlib\n",
        "plt.imshow(image_array)\n",
        "plt.show()"
      ]
    },
    {
      "cell_type": "code",
      "execution_count": null,
      "id": "52bc92c9-7bb0-49d0-b90d-3656be055492",
      "metadata": {
        "id": "52bc92c9-7bb0-49d0-b90d-3656be055492"
      },
      "outputs": [],
      "source": [
        "train_dataloader = DataLoader(train_dataset, batch_size=64,shuffle=True, num_workers=2)\n",
        "test_dataloader = DataLoader(test_dataset, batch_size=64,shuffle=False, num_workers=2)"
      ]
    },
    {
      "cell_type": "code",
      "execution_count": null,
      "id": "08ad6bc8-602b-4991-897f-76d633fcf4ac",
      "metadata": {
        "id": "08ad6bc8-602b-4991-897f-76d633fcf4ac"
      },
      "outputs": [],
      "source": [
        "def test_model(test_model):\n",
        "  correct_examples = 0\n",
        "  total_examples = 0\n",
        "  test_model.eval()\n",
        "\n",
        "  with torch.no_grad():\n",
        "      for test_data, test_labels in test_dataloader:\n",
        "          # Assuming your_model is your trained neural network\n",
        "          test_data=test_data.to(device)\n",
        "          test_labels=test_labels.to(device)\n",
        "          output_predictions = test_model(test_data)\n",
        "\n",
        "          # Calculate accuracy\n",
        "          _, predicted = torch.max(output_predictions, 1)\n",
        "          correct_examples += (predicted == test_labels).sum().item()\n",
        "          total_examples += test_labels.size(0)\n",
        "\n",
        "  accuracy = correct_examples / total_examples\n",
        "  print(f\"Accuracy: {accuracy * 100:.2f}%\")\n",
        "  print(\"\\nCorrect:\",correct_examples)\n",
        "  print(\"\\nTotal:\",total_examples)\n",
        ""
      ]
    },
    {
      "cell_type": "code",
      "execution_count": null,
      "id": "c9586414-60ca-4cb6-96fe-1d97f60ec035",
      "metadata": {
        "id": "c9586414-60ca-4cb6-96fe-1d97f60ec035"
      },
      "outputs": [],
      "source": [
        "swin_model = models.swin_t()\n",
        "swin_model.head = nn.Linear(768,5,bias=True)  ## change the final classifier layer to 5 output features"
      ]
    },
    {
      "cell_type": "code",
      "execution_count": null,
      "id": "bbc6edbe-babc-48f9-9d01-0f502c8a6b3c",
      "metadata": {
        "id": "bbc6edbe-babc-48f9-9d01-0f502c8a6b3c"
      },
      "outputs": [],
      "source": [
        "swin_model = swin_model.to(device)\n",
        "optimizer = optim.Adam(swin_model.parameters(), lr=0.001, betas=(0.9, 0.999), eps=1e-02, weight_decay=1e-5)\n",
        "criterion = nn.CrossEntropyLoss()"
      ]
    },
    {
      "cell_type": "code",
      "execution_count": null,
      "id": "709c370f-44f1-417f-94fa-df9e0c96ff94",
      "metadata": {
        "id": "709c370f-44f1-417f-94fa-df9e0c96ff94",
        "outputId": "f4c84018-2e3e-4bbb-f02f-0a0f08637ffe"
      },
      "outputs": [
        {
          "name": "stdout",
          "output_type": "stream",
          "text": [
            "Saving model....\n",
            "Training loss: 1.2481, Training accuracy: 0.4851\n",
            "\n",
            " Validation accuracy: 0.4885\n",
            "Saving model....\n",
            "Training loss: 1.0556, Training accuracy: 0.5903\n",
            "\n",
            " Validation accuracy: 0.6131\n",
            "Saving model....\n",
            "Training loss: 0.9149, Training accuracy: 0.6658\n",
            "\n",
            " Validation accuracy: 0.6712\n",
            "Saving model....\n",
            "Training loss: 0.8627, Training accuracy: 0.6876\n",
            "\n",
            " Validation accuracy: 0.6887\n",
            "Saving model....\n",
            "Training loss: 0.8525, Training accuracy: 0.6927\n",
            "\n",
            " Validation accuracy: 0.6980\n",
            "Saving model....\n",
            "Training loss: 0.8282, Training accuracy: 0.7019\n",
            "\n",
            " Validation accuracy: 0.7040\n",
            "Training loss: 0.8326, Training accuracy: 0.6927\n",
            "\n",
            " Validation accuracy: 0.6936\n",
            "Saving model....\n",
            "Training loss: 0.8011, Training accuracy: 0.7050\n",
            "\n",
            " Validation accuracy: 0.7043\n",
            "Saving model....\n",
            "Training loss: 0.7976, Training accuracy: 0.7033\n",
            "\n",
            " Validation accuracy: 0.7062\n",
            "Saving model....\n",
            "Training loss: 0.8040, Training accuracy: 0.7112\n",
            "\n",
            " Validation accuracy: 0.7141\n",
            "Saving model....\n",
            "Training loss: 0.7811, Training accuracy: 0.7125\n",
            "\n",
            " Validation accuracy: 0.7149\n",
            "Saving model....\n",
            "Training loss: 0.7738, Training accuracy: 0.7204\n",
            "\n",
            " Validation accuracy: 0.7215\n",
            "Training loss: 0.7803, Training accuracy: 0.7187\n",
            "\n",
            " Validation accuracy: 0.7198\n",
            "Training loss: 0.7801, Training accuracy: 0.7118\n",
            "\n",
            " Validation accuracy: 0.7174\n",
            "Training loss: 0.7737, Training accuracy: 0.7153\n",
            "\n",
            " Validation accuracy: 0.7201\n",
            "Training loss: 0.7836, Training accuracy: 0.7139\n",
            "\n",
            " Validation accuracy: 0.7185\n",
            "Training loss: 0.7584, Training accuracy: 0.7211\n",
            "\n",
            " Validation accuracy: 0.7212\n",
            "Saving model....\n",
            "Training loss: 0.7587, Training accuracy: 0.7231\n",
            "\n",
            " Validation accuracy: 0.7247\n",
            "Training loss: 0.7622, Training accuracy: 0.7173\n",
            "\n",
            " Validation accuracy: 0.7193\n",
            "Saving model....\n",
            "Training loss: 0.7557, Training accuracy: 0.7252\n",
            "\n",
            " Validation accuracy: 0.7277\n",
            "Training loss: 0.7547, Training accuracy: 0.7245\n",
            "\n",
            " Validation accuracy: 0.7226\n",
            "Training loss: 0.7541, Training accuracy: 0.7211\n",
            "\n",
            " Validation accuracy: 0.7239\n",
            "Training loss: 0.7425, Training accuracy: 0.7235\n",
            "\n",
            " Validation accuracy: 0.7261\n",
            "Training loss: 0.7438, Training accuracy: 0.7248\n",
            "\n",
            " Validation accuracy: 0.7261\n",
            "Training loss: 0.7433, Training accuracy: 0.7258\n",
            "\n",
            " Validation accuracy: 0.7256\n"
          ]
        }
      ],
      "source": [
        "epochs = 25\n",
        "train_losses = []\n",
        "train_accs = []\n",
        "best_acc = 0\n",
        "batch = 0\n",
        "best_val_acc = 0\n",
        "\n",
        "for epoch in range(epochs):\n",
        "  correct_examples = 0\n",
        "  total_examples = 0\n",
        "  train_loss = 0\n",
        "  swin_model.train()\n",
        "  for inputs,targets in train_dataloader:\n",
        "    inputs = inputs.to(device)\n",
        "    targets = targets.to(device)\n",
        "    optimizer.zero_grad()\n",
        "\n",
        "    model_logits = swin_model(inputs)\n",
        "    model_predictions = torch.argmax(model_logits,dim=1)\n",
        "    loss = criterion(model_logits,targets)\n",
        "    loss.backward()\n",
        "    optimizer.step()\n",
        "\n",
        "    train_loss += loss.item()\n",
        "    correct_examples += torch.sum((model_predictions==targets))\n",
        "    total_examples += targets.numel()\n",
        "\n",
        "  avg_loss = train_loss / len(train_dataloader)\n",
        "  avg_acc = correct_examples / total_examples\n",
        "  train_losses.append(avg_loss)\n",
        "  train_accs.append(avg_acc)\n",
        "\n",
        "\n",
        "  swin_model.eval()\n",
        "  with torch.no_grad():\n",
        "    for inputs,targets in test_dataloader:\n",
        "      inputs = inputs.to(device)\n",
        "      targets = targets.to(device)\n",
        "      optimizer.zero_grad()\n",
        "      model_logits = swin_model(inputs)\n",
        "      model_predictions = torch.argmax(model_logits,dim=1)\n",
        "      correct_examples += torch.sum((model_predictions==targets))\n",
        "      total_examples += targets.numel()\n",
        "\n",
        "  avg_val_acc = correct_examples / total_examples\n",
        "  train_accs.append(avg_val_acc)\n",
        "\n",
        "  ## save the best model\n",
        "  if avg_val_acc > best_val_acc:\n",
        "    best_val_acc = avg_val_acc\n",
        "    torch.save(swin_model.state_dict(), 'swin_model.pth')\n",
        "    print('Saving model....')\n",
        "  print(\"Training loss: %.4f, Training accuracy: %.4f\" %(avg_loss, avg_acc))\n",
        "  print(\"\\n Validation accuracy: %.4f\" %(avg_val_acc))\n",
        ""
      ]
    },
    {
      "cell_type": "code",
      "execution_count": null,
      "id": "85b3192d-1775-4940-bbc9-8ab5914935f2",
      "metadata": {
        "id": "85b3192d-1775-4940-bbc9-8ab5914935f2",
        "outputId": "ac46eb97-b484-41ae-9fe1-7f40e008e51e"
      },
      "outputs": [
        {
          "name": "stdout",
          "output_type": "stream",
          "text": [
            "Accuracy: 72.44%\n",
            "\n",
            "Correct: 531\n",
            "\n",
            "Total: 733\n"
          ]
        }
      ],
      "source": [
        "test_model(swin_model)"
      ]
    },
    {
      "cell_type": "markdown",
      "id": "10fc6fc1-b704-4d99-9d2d-bb0dda2e91a2",
      "metadata": {
        "id": "10fc6fc1-b704-4d99-9d2d-bb0dda2e91a2"
      },
      "source": [
        "CONVNEXT TRAINING"
      ]
    },
    {
      "cell_type": "code",
      "execution_count": null,
      "id": "310e872c-8e11-4748-9e10-b44bf1841dd9",
      "metadata": {
        "id": "310e872c-8e11-4748-9e10-b44bf1841dd9"
      },
      "outputs": [],
      "source": [
        "convnext_model = models.convnext_tiny(weights=None)\n",
        "convnext_model.classifier[2] = nn.Linear(768,5)  ## change the final layer to 5 features\n",
        "convnext_model = convnext_model.to(device)\n",
        "optimizer = optim.Adam(convnext_model.parameters(), lr=0.001, betas=(0.9, 0.999), eps=1e-08, weight_decay=1e-5)\n",
        "criterion = nn.CrossEntropyLoss()"
      ]
    },
    {
      "cell_type": "code",
      "execution_count": null,
      "id": "8e9585bd-643c-4adc-b037-ea561ec7196b",
      "metadata": {
        "id": "8e9585bd-643c-4adc-b037-ea561ec7196b",
        "outputId": "0e0a4149-3ac4-4085-c66b-207905ac1bee"
      },
      "outputs": [
        {
          "name": "stdout",
          "output_type": "stream",
          "text": [
            "Training loss: 0.7520, Training accuracy: 0.7204\n",
            "\n",
            " Validation accuracy: 0.7253\n",
            "Training loss: 0.7427, Training accuracy: 0.7221\n",
            "\n",
            " Validation accuracy: 0.7253\n",
            "Training loss: 0.7271, Training accuracy: 0.7228\n",
            "\n",
            " Validation accuracy: 0.7253\n",
            "Training loss: 0.7303, Training accuracy: 0.7252\n",
            "\n",
            " Validation accuracy: 0.7261\n",
            "Saving model....\n",
            "Training loss: 0.7314, Training accuracy: 0.7296\n",
            "\n",
            " Validation accuracy: 0.7318\n",
            "Training loss: 0.7265, Training accuracy: 0.7279\n",
            "\n",
            " Validation accuracy: 0.7297\n",
            "Training loss: 0.7255, Training accuracy: 0.7248\n",
            "\n",
            " Validation accuracy: 0.7215\n",
            "Training loss: 0.7278, Training accuracy: 0.7327\n",
            "\n",
            " Validation accuracy: 0.7318\n",
            "Training loss: 0.7289, Training accuracy: 0.7224\n",
            "\n",
            " Validation accuracy: 0.7176\n",
            "Training loss: 0.7444, Training accuracy: 0.7235\n",
            "\n",
            " Validation accuracy: 0.7267\n",
            "Training loss: 0.7224, Training accuracy: 0.7200\n",
            "\n",
            " Validation accuracy: 0.7223\n",
            "Training loss: 0.7223, Training accuracy: 0.7245\n",
            "\n",
            " Validation accuracy: 0.7277\n",
            "Training loss: 0.7232, Training accuracy: 0.7207\n",
            "\n",
            " Validation accuracy: 0.7247\n",
            "Training loss: 0.7177, Training accuracy: 0.7258\n",
            "\n",
            " Validation accuracy: 0.7264\n",
            "Training loss: 0.7154, Training accuracy: 0.7248\n",
            "\n",
            " Validation accuracy: 0.7250\n",
            "Training loss: 0.7179, Training accuracy: 0.7286\n",
            "\n",
            " Validation accuracy: 0.7275\n",
            "Training loss: 0.7313, Training accuracy: 0.7241\n",
            "\n",
            " Validation accuracy: 0.7264\n",
            "Saving model....\n",
            "Training loss: 0.7155, Training accuracy: 0.7299\n",
            "\n",
            " Validation accuracy: 0.7324\n",
            "Saving model....\n",
            "Training loss: 0.7186, Training accuracy: 0.7351\n",
            "\n",
            " Validation accuracy: 0.7343\n",
            "Training loss: 0.7149, Training accuracy: 0.7310\n",
            "\n",
            " Validation accuracy: 0.7335\n"
          ]
        }
      ],
      "source": [
        "#optimizer = optim.Adam(convnext_model.parameters(), lr=0.0006, betas=(0.9, 0.999), eps=1e-08, weight_decay=1e-5)\n",
        "epochs = 68\n",
        "#train_losses = []\n",
        "#train_accs = []\n",
        "best_acc = 0\n",
        "batch = 0\n",
        "best_val_acc = 0.7272\n",
        "\n",
        "for epoch in range(epochs):\n",
        "  correct_examples = 0\n",
        "  total_examples = 0\n",
        "  train_loss = 0\n",
        "  convnext_model.train()\n",
        "  for inputs,targets in train_dataloader:\n",
        "    inputs = inputs.to(device)\n",
        "    targets = targets.to(device)\n",
        "    optimizer.zero_grad()\n",
        "\n",
        "    model_logits = convnext_model(inputs)\n",
        "    model_predictions = torch.argmax(model_logits,dim=1)\n",
        "    loss = criterion(model_logits,targets)\n",
        "    loss.backward()\n",
        "    optimizer.step()\n",
        "\n",
        "    train_loss += loss.item()\n",
        "    correct_examples += torch.sum((model_predictions==targets))\n",
        "    total_examples += targets.numel()\n",
        "\n",
        "  avg_loss = train_loss / len(train_dataloader)\n",
        "  avg_acc = correct_examples / total_examples\n",
        "  train_losses.append(avg_loss)\n",
        "  train_accs.append(avg_acc)\n",
        "\n",
        "\n",
        "  convnext_model.eval()\n",
        "  with torch.no_grad():\n",
        "    for inputs,targets in test_dataloader:\n",
        "      inputs = inputs.to(device)\n",
        "      targets = targets.to(device)\n",
        "      optimizer.zero_grad()\n",
        "      model_logits = convnext_model(inputs)\n",
        "      model_predictions = torch.argmax(model_logits,dim=1)\n",
        "      correct_examples += torch.sum((model_predictions==targets))\n",
        "      total_examples += targets.numel()\n",
        "\n",
        "  avg_val_acc = correct_examples / total_examples\n",
        "  train_accs.append(avg_val_acc)\n",
        "\n",
        "  ## save the best model\n",
        "  if avg_val_acc > best_val_acc:\n",
        "    best_val_acc = avg_val_acc\n",
        "    torch.save(convnext_model.state_dict(), 'convnext_model.pth')\n",
        "    print('Saving model....')\n",
        "  print(\"Training loss: %.4f, Training accuracy: %.4f\" %(avg_loss, avg_acc))\n",
        "  print(\"\\n Validation accuracy: %.4f\" %(avg_val_acc))\n",
        ""
      ]
    },
    {
      "cell_type": "code",
      "execution_count": null,
      "id": "647f0693-5f69-49a5-a298-eaf62c2d5176",
      "metadata": {
        "id": "647f0693-5f69-49a5-a298-eaf62c2d5176",
        "outputId": "39b09e24-86d0-46d1-d443-f6b29a0831e7"
      },
      "outputs": [
        {
          "name": "stdout",
          "output_type": "stream",
          "text": [
            "Accuracy: 74.35%\n",
            "\n",
            "Correct: 545\n",
            "\n",
            "Total: 733\n"
          ]
        }
      ],
      "source": [
        "test_model(convnext_model)"
      ]
    },
    {
      "cell_type": "markdown",
      "id": "b8440dee-149e-4891-a828-b9bb33a0b824",
      "metadata": {
        "id": "b8440dee-149e-4891-a828-b9bb33a0b824"
      },
      "source": [
        "BASELINE CONVNEXT ACCURACY"
      ]
    },
    {
      "cell_type": "code",
      "execution_count": null,
      "id": "72b362b8-9410-4c27-97ba-547978f66822",
      "metadata": {
        "id": "72b362b8-9410-4c27-97ba-547978f66822"
      },
      "outputs": [],
      "source": [
        "convnext_model = models.convnext_tiny(weights=None)\n",
        "convnext_model.classifier[2] = nn.Linear(768,5)\n",
        "convnext_model = convnext_model.to(device)\n",
        "optimizer = optim.Adam(convnext_model.parameters(), lr=0.001, betas=(0.9, 0.999), eps=1e-08, weight_decay=1e-5)\n",
        "scheduler = optim.lr_scheduler.StepLR(optimizer,12,0.1)\n",
        "criterion = nn.CrossEntropyLoss()"
      ]
    },
    {
      "cell_type": "code",
      "execution_count": null,
      "id": "1c5a37f3-dcdd-4fe1-bf2a-3b266abf1a9f",
      "metadata": {
        "id": "1c5a37f3-dcdd-4fe1-bf2a-3b266abf1a9f",
        "outputId": "42c75fec-601b-41d8-b6db-028794b64d8d"
      },
      "outputs": [
        {
          "name": "stdout",
          "output_type": "stream",
          "text": [
            "Saving model....\n",
            "Training loss: 1.6400, Training accuracy: 0.4653\n",
            "\n",
            " Validation accuracy: 0.4752\n",
            "Saving model....\n",
            "Training loss: 1.1654, Training accuracy: 0.5251\n",
            "\n",
            " Validation accuracy: 0.5478\n",
            "Saving model....\n",
            "Training loss: 1.0691, Training accuracy: 0.6084\n",
            "\n",
            " Validation accuracy: 0.6251\n",
            "Saving model....\n",
            "Training loss: 0.9201, Training accuracy: 0.6719\n",
            "\n",
            " Validation accuracy: 0.6789\n",
            "Saving model....\n",
            "Training loss: 0.8660, Training accuracy: 0.6907\n",
            "\n",
            " Validation accuracy: 0.6794\n",
            "Saving model....\n",
            "Training loss: 0.8407, Training accuracy: 0.6907\n",
            "\n",
            " Validation accuracy: 0.6966\n",
            "Saving model....\n",
            "Training loss: 0.8294, Training accuracy: 0.7047\n",
            "\n",
            " Validation accuracy: 0.7097\n",
            "Saving model....\n",
            "Training loss: 0.8134, Training accuracy: 0.7132\n",
            "\n",
            " Validation accuracy: 0.7152\n",
            "Training loss: 0.8083, Training accuracy: 0.6975\n",
            "\n",
            " Validation accuracy: 0.7021\n",
            "Training loss: 0.7946, Training accuracy: 0.7084\n",
            "\n",
            " Validation accuracy: 0.7086\n",
            "Training loss: 0.8165, Training accuracy: 0.6917\n",
            "\n",
            " Validation accuracy: 0.6999\n",
            "Training loss: 0.7995, Training accuracy: 0.7108\n",
            "\n",
            " Validation accuracy: 0.7105\n",
            "Training loss: 0.8044, Training accuracy: 0.7078\n",
            "\n",
            " Validation accuracy: 0.7089\n",
            "Saving model....\n",
            "Training loss: 0.7813, Training accuracy: 0.7159\n",
            "\n",
            " Validation accuracy: 0.7201\n",
            "Training loss: 0.7992, Training accuracy: 0.7136\n",
            "\n",
            " Validation accuracy: 0.7144\n",
            "Training loss: 0.8525, Training accuracy: 0.6900\n",
            "\n",
            " Validation accuracy: 0.6944\n",
            "Training loss: 0.7921, Training accuracy: 0.7105\n",
            "\n",
            " Validation accuracy: 0.7122\n",
            "Saving model....\n",
            "Training loss: 0.7864, Training accuracy: 0.7187\n",
            "\n",
            " Validation accuracy: 0.7206\n",
            "Training loss: 0.7794, Training accuracy: 0.7153\n",
            "\n",
            " Validation accuracy: 0.7171\n",
            "Saving model....\n",
            "Training loss: 0.7814, Training accuracy: 0.7166\n",
            "\n",
            " Validation accuracy: 0.7212\n",
            "Saving model....\n",
            "Training loss: 0.7781, Training accuracy: 0.7187\n",
            "\n",
            " Validation accuracy: 0.7228\n",
            "Training loss: 0.7744, Training accuracy: 0.7200\n",
            "\n",
            " Validation accuracy: 0.7220\n",
            "Training loss: 0.7744, Training accuracy: 0.7142\n",
            "\n",
            " Validation accuracy: 0.7198\n",
            "Training loss: 0.7795, Training accuracy: 0.7166\n",
            "\n",
            " Validation accuracy: 0.7196\n",
            "Training loss: 0.7735, Training accuracy: 0.7183\n",
            "\n",
            " Validation accuracy: 0.7217\n"
          ]
        }
      ],
      "source": [
        "#optimizer = optim.Adam(convnext_model.parameters(), lr=0.0006, betas=(0.9, 0.999), eps=1e-08, weight_decay=1e-5)\n",
        "epochs = 25\n",
        "#train_losses = []\n",
        "#train_accs = []\n",
        "best_acc = 0\n",
        "batch = 0\n",
        "best_val_acc = 0\n",
        "\n",
        "for epoch in range(epochs):\n",
        "  correct_examples = 0\n",
        "  total_examples = 0\n",
        "  train_loss = 0\n",
        "  convnext_model.train()\n",
        "  for inputs,targets in train_dataloader:\n",
        "    inputs = inputs.to(device)\n",
        "    targets = targets.to(device)\n",
        "    optimizer.zero_grad()\n",
        "\n",
        "    model_logits = convnext_model(inputs)\n",
        "    model_predictions = torch.argmax(model_logits,dim=1)\n",
        "    loss = criterion(model_logits,targets)\n",
        "    loss.backward()\n",
        "    optimizer.step()\n",
        "\n",
        "    train_loss += loss.item()\n",
        "    correct_examples += torch.sum((model_predictions==targets))\n",
        "    total_examples += targets.numel()\n",
        "\n",
        "  avg_loss = train_loss / len(train_dataloader)\n",
        "  avg_acc = correct_examples / total_examples\n",
        "  train_losses.append(avg_loss)\n",
        "  train_accs.append(avg_acc)\n",
        "\n",
        "\n",
        "  convnext_model.eval()\n",
        "  with torch.no_grad():\n",
        "    for inputs,targets in test_dataloader:\n",
        "      inputs = inputs.to(device)\n",
        "      targets = targets.to(device)\n",
        "      optimizer.zero_grad()\n",
        "      model_logits = convnext_model(inputs)\n",
        "      model_predictions = torch.argmax(model_logits,dim=1)\n",
        "      correct_examples += torch.sum((model_predictions==targets))\n",
        "      total_examples += targets.numel()\n",
        "\n",
        "  avg_val_acc = correct_examples / total_examples\n",
        "  train_accs.append(avg_val_acc)\n",
        "\n",
        "  ## save the best model\n",
        "  if avg_val_acc > best_val_acc:\n",
        "    best_val_acc = avg_val_acc\n",
        "    torch.save(convnext_model.state_dict(), 'convnext_model_baseline.pth')\n",
        "    print('Saving model....')\n",
        "  print(\"Training loss: %.4f, Training accuracy: %.4f\" %(avg_loss, avg_acc))\n",
        "  print(\"\\n Validation accuracy: %.4f\" %(avg_val_acc))\n",
        ""
      ]
    },
    {
      "cell_type": "code",
      "execution_count": null,
      "id": "9094fd15-9746-419e-afb1-85456cdafd08",
      "metadata": {
        "id": "9094fd15-9746-419e-afb1-85456cdafd08",
        "outputId": "95d6feea-05ba-4874-8890-e4feb25fa326"
      },
      "outputs": [
        {
          "name": "stdout",
          "output_type": "stream",
          "text": [
            "Accuracy: 73.94%\n",
            "\n",
            "Correct: 542\n",
            "\n",
            "Total: 733\n"
          ]
        }
      ],
      "source": [
        "convnext_model_baseline = models.convnext_tiny(weights=None)\n",
        "convnext_model_baseline.classifier[2] = nn.Linear(768,5)\n",
        "convnext_model_baseline = convnext_model_baseline.to(device)\n",
        "convnext_model_baseline.load_state_dict(torch.load('convnext_model_baseline.pth'))\n",
        "test_model(convnext_model_baseline)"
      ]
    },
    {
      "cell_type": "markdown",
      "id": "141470ce-70c3-45d6-b4de-f3e728b5355a",
      "metadata": {
        "id": "141470ce-70c3-45d6-b4de-f3e728b5355a"
      },
      "source": [
        "TEACHING CONVNEXT WITH CONVNEXT"
      ]
    },
    {
      "cell_type": "code",
      "execution_count": null,
      "id": "44fe7dd3-adcd-4ded-b8d5-d37d5c102774",
      "metadata": {
        "id": "44fe7dd3-adcd-4ded-b8d5-d37d5c102774",
        "outputId": "c969db19-ec7f-4315-8455-af80545aa0b8"
      },
      "outputs": [
        {
          "name": "stdout",
          "output_type": "stream",
          "text": [
            "Accuracy: 74.35%\n",
            "\n",
            "Correct: 545\n",
            "\n",
            "Total: 733\n"
          ]
        }
      ],
      "source": [
        "conv_teacher = models.convnext_tiny(weights=None)\n",
        "conv_teacher.classifier[2] = nn.Linear(768,5)\n",
        "conv_teacher = conv_teacher.to(device)\n",
        "conv_teacher.load_state_dict(torch.load('convnext_model_extended.pth'))\n",
        "test_model(conv_teacher)"
      ]
    },
    {
      "cell_type": "code",
      "execution_count": null,
      "id": "2fd99126-aab7-4d3a-8d10-7f9199f0e282",
      "metadata": {
        "id": "2fd99126-aab7-4d3a-8d10-7f9199f0e282"
      },
      "outputs": [],
      "source": []
    },
    {
      "cell_type": "markdown",
      "id": "22902b8b-f307-4d85-8611-5ed4922cc8d4",
      "metadata": {
        "id": "22902b8b-f307-4d85-8611-5ed4922cc8d4"
      },
      "source": [
        "TEACHING SWIN WITH CONVNEXT"
      ]
    },
    {
      "cell_type": "code",
      "execution_count": null,
      "id": "95a9f669-d127-48db-abda-61acc1a29340",
      "metadata": {
        "id": "95a9f669-d127-48db-abda-61acc1a29340"
      },
      "outputs": [],
      "source": [
        "def kd(teacher,student,optimizer,alpha,T,model_path):\n",
        "  best_val_acc = 0\n",
        "  train_losses = []\n",
        "  val_losses = []\n",
        "  for epoch in range(25):\n",
        "    print(f'Epoch {epoch}')\n",
        "    train_loss = 0\n",
        "    correct_examples = 0\n",
        "    total_examples = 0\n",
        "    student.train()\n",
        "    for inputs, targets in train_dataloader:\n",
        "        inputs, targets = inputs.to(device), targets.to(device)\n",
        "        optimizer.zero_grad()\n",
        "\n",
        "        student_logits = student(inputs)\n",
        "        teacher_logits = teacher(inputs)\n",
        "\n",
        "        loss = F.kl_div(F.log_softmax(student_logits / T, dim=1),F.softmax(teacher_logits / T, dim=1),reduction='batchmean')  * alpha + F.cross_entropy(student_logits, targets) * (1 - alpha)\n",
        "        #loss = alpha*F.cross_entropy(student_logits/T, F.softmax(teacher_logits/T,dim=1))*(T**2) + F.cross_entropy(student_logits, targets)*(1-alpha)\n",
        "        output_predictions = torch.argmax(student_logits, dim=1)\n",
        "        loss.backward()\n",
        "        optimizer.step()\n",
        "\n",
        "        train_loss += loss.item()\n",
        "        correct_examples += torch.sum((output_predictions == targets))\n",
        "        total_examples += targets.numel()\n",
        "\n",
        "    avg_loss = train_loss / len(train_dataloader)\n",
        "    avg_acc = correct_examples.float() / total_examples\n",
        "    train_losses.append(avg_loss)\n",
        "\n",
        "    # Validation process\n",
        "    student.eval()\n",
        "    total_examples = 0\n",
        "    correct_examples = 0\n",
        "    val_loss = 0\n",
        "    with torch.no_grad():\n",
        "        for batch_idx, (inputs, targets) in enumerate(test_dataloader):\n",
        "            inputs, targets = inputs.to(device), targets.to(device)\n",
        "            outputs = student(inputs)\n",
        "            loss = F.cross_entropy(outputs, targets)\n",
        "\n",
        "            _, predicted = outputs.max(1)\n",
        "            total_examples += targets.size(0)\n",
        "            correct_examples += predicted.eq(targets).sum().item()\n",
        "            val_loss += loss.item()\n",
        "\n",
        "    avg_loss = val_loss / len(test_dataloader)\n",
        "    avg_acc = correct_examples / total_examples\n",
        "    print(f'Validation loss: {avg_loss:.4f}, Validation accuracy: {avg_acc:.4f}')\n",
        "    val_losses.append(avg_loss)\n",
        "\n",
        "    if avg_acc > best_val_acc:\n",
        "        best_val_acc = avg_acc\n",
        "        print('New best validation accuracy, saving model...')\n",
        "        torch.save(student.state_dict(), model_path)\n",
        "\n",
        "    print(f\"Training loss: {avg_loss:.4f}, Training accuracy: {avg_acc:.4f}\")\n",
        "\n",
        "  return train_losses,val_losses,student\n"
      ]
    },
    {
      "cell_type": "code",
      "execution_count": null,
      "id": "e3faf8fb-b2a5-4d86-9559-d91ad6a07e27",
      "metadata": {
        "id": "e3faf8fb-b2a5-4d86-9559-d91ad6a07e27"
      },
      "outputs": [],
      "source": []
    },
    {
      "cell_type": "code",
      "execution_count": null,
      "id": "39578e1a-bdbd-4d23-93fa-45fe5de1935e",
      "metadata": {
        "id": "39578e1a-bdbd-4d23-93fa-45fe5de1935e"
      },
      "outputs": [],
      "source": [
        "swin_model_student = models.swin_t()\n",
        "swin_model_student.head = nn.Linear(768,5,bias=True)\n",
        "swin_model_student = swin_model_student.to(device)\n",
        "optimizer = optim.Adam(swin_model_student.parameters(),lr=0.001,betas=(0.9,0.999),eps=1e-2,weight_decay=1e-5)"
      ]
    },
    {
      "cell_type": "code",
      "execution_count": null,
      "id": "344c1d55-0fd3-44fb-a0af-11bb513f3172",
      "metadata": {
        "id": "344c1d55-0fd3-44fb-a0af-11bb513f3172",
        "outputId": "3129bd17-5790-473b-eb34-6e440beb6d6e"
      },
      "outputs": [
        {
          "name": "stdout",
          "output_type": "stream",
          "text": [
            "Epoch 0\n",
            "Validation loss: 1.3173, Validation accuracy: 0.4789\n",
            "New best validation accuracy, saving model...\n",
            "Training loss: 1.3173, Training accuracy: 0.4789\n",
            "Epoch 1\n",
            "Validation loss: 1.3070, Validation accuracy: 0.4789\n",
            "Training loss: 1.3070, Training accuracy: 0.4789\n",
            "Epoch 2\n",
            "Validation loss: 1.3569, Validation accuracy: 0.4079\n",
            "Training loss: 1.3569, Training accuracy: 0.4079\n",
            "Epoch 3\n",
            "Validation loss: 1.2436, Validation accuracy: 0.5089\n",
            "New best validation accuracy, saving model...\n",
            "Training loss: 1.2436, Training accuracy: 0.5089\n",
            "Epoch 4\n",
            "Validation loss: 1.2478, Validation accuracy: 0.4843\n",
            "Training loss: 1.2478, Training accuracy: 0.4843\n",
            "Epoch 5\n",
            "Validation loss: 1.2265, Validation accuracy: 0.5143\n",
            "New best validation accuracy, saving model...\n",
            "Training loss: 1.2265, Training accuracy: 0.5143\n",
            "Epoch 6\n",
            "Validation loss: 1.2299, Validation accuracy: 0.4789\n",
            "Training loss: 1.2299, Training accuracy: 0.4789\n",
            "Epoch 7\n",
            "Validation loss: 1.1583, Validation accuracy: 0.5266\n",
            "New best validation accuracy, saving model...\n",
            "Training loss: 1.1583, Training accuracy: 0.5266\n",
            "Epoch 8\n",
            "Validation loss: 1.2017, Validation accuracy: 0.5880\n",
            "New best validation accuracy, saving model...\n",
            "Training loss: 1.2017, Training accuracy: 0.5880\n",
            "Epoch 9\n",
            "Validation loss: 0.9201, Validation accuracy: 0.6889\n",
            "New best validation accuracy, saving model...\n",
            "Training loss: 0.9201, Training accuracy: 0.6889\n",
            "Epoch 10\n",
            "Validation loss: 0.8629, Validation accuracy: 0.6999\n",
            "New best validation accuracy, saving model...\n",
            "Training loss: 0.8629, Training accuracy: 0.6999\n",
            "Epoch 11\n",
            "Validation loss: 0.8746, Validation accuracy: 0.6999\n",
            "Training loss: 0.8746, Training accuracy: 0.6999\n",
            "Epoch 12\n",
            "Validation loss: 0.8695, Validation accuracy: 0.6944\n",
            "Training loss: 0.8695, Training accuracy: 0.6944\n",
            "Epoch 13\n",
            "Validation loss: 0.8511, Validation accuracy: 0.7040\n",
            "New best validation accuracy, saving model...\n",
            "Training loss: 0.8511, Training accuracy: 0.7040\n",
            "Epoch 14\n",
            "Validation loss: 0.8930, Validation accuracy: 0.7026\n",
            "Training loss: 0.8930, Training accuracy: 0.7026\n",
            "Epoch 15\n",
            "Validation loss: 0.8475, Validation accuracy: 0.6999\n",
            "Training loss: 0.8475, Training accuracy: 0.6999\n",
            "Epoch 16\n",
            "Validation loss: 0.8212, Validation accuracy: 0.7067\n",
            "New best validation accuracy, saving model...\n",
            "Training loss: 0.8212, Training accuracy: 0.7067\n",
            "Epoch 17\n",
            "Validation loss: 0.8495, Validation accuracy: 0.7026\n",
            "Training loss: 0.8495, Training accuracy: 0.7026\n",
            "Epoch 18\n",
            "Validation loss: 0.8214, Validation accuracy: 0.6971\n",
            "Training loss: 0.8214, Training accuracy: 0.6971\n",
            "Epoch 19\n",
            "Validation loss: 0.8421, Validation accuracy: 0.7067\n",
            "Training loss: 0.8421, Training accuracy: 0.7067\n",
            "Epoch 20\n",
            "Validation loss: 0.8340, Validation accuracy: 0.7094\n",
            "New best validation accuracy, saving model...\n",
            "Training loss: 0.8340, Training accuracy: 0.7094\n",
            "Epoch 21\n",
            "Validation loss: 0.8324, Validation accuracy: 0.6985\n",
            "Training loss: 0.8324, Training accuracy: 0.6985\n",
            "Epoch 22\n",
            "Validation loss: 0.8113, Validation accuracy: 0.7080\n",
            "Training loss: 0.8113, Training accuracy: 0.7080\n",
            "Epoch 23\n",
            "Validation loss: 0.8052, Validation accuracy: 0.7340\n",
            "New best validation accuracy, saving model...\n",
            "Training loss: 0.8052, Training accuracy: 0.7340\n",
            "Epoch 24\n",
            "Validation loss: 0.8250, Validation accuracy: 0.7340\n",
            "Training loss: 0.8250, Training accuracy: 0.7340\n"
          ]
        }
      ],
      "source": [
        "swin_train,swin_val,swin_model_student = kd(conv_teacher,swin_model_student,0.25,11,'swin_distilled.pth')"
      ]
    },
    {
      "cell_type": "code",
      "execution_count": null,
      "id": "22559d1b-528d-46cc-9329-924e708234a6",
      "metadata": {
        "id": "22559d1b-528d-46cc-9329-924e708234a6",
        "outputId": "992b759f-23c1-4de5-8e00-04e8c6db425c"
      },
      "outputs": [
        {
          "name": "stdout",
          "output_type": "stream",
          "text": [
            "Accuracy: 73.40%\n",
            "\n",
            "Correct: 538\n",
            "\n",
            "Total: 733\n"
          ]
        }
      ],
      "source": [
        "test_model(swin_model_student)"
      ]
    },
    {
      "cell_type": "markdown",
      "id": "409dddba-16c8-4920-bdc6-7a68ace40cf7",
      "metadata": {
        "id": "409dddba-16c8-4920-bdc6-7a68ace40cf7"
      },
      "source": [
        "CONVNEXT SELF KD"
      ]
    },
    {
      "cell_type": "code",
      "execution_count": null,
      "id": "11ebb7a5-d598-42dd-b398-08fd39acfc38",
      "metadata": {
        "id": "11ebb7a5-d598-42dd-b398-08fd39acfc38"
      },
      "outputs": [],
      "source": [
        "conv_student = models.convnext_tiny(weights=None)\n",
        "conv_student.classifier[2] = nn.Linear(768,5)\n",
        "conv_student = conv_student.to(device)\n",
        "optimizer = optim.Adam(conv_student.parameters(), lr=0.001, betas=(0.9, 0.999), eps=1e-08, weight_decay=1e-5)\n",
        "#scheduler = optim.lr_scheduler.StepLR(optimizer,12,0.1)\n",
        "criterion = nn.CrossEntropyLoss()"
      ]
    },
    {
      "cell_type": "code",
      "execution_count": null,
      "id": "ff2f200a-28e4-4156-b0c4-73e6048dae82",
      "metadata": {
        "id": "ff2f200a-28e4-4156-b0c4-73e6048dae82",
        "outputId": "36d4af58-c131-41ec-bcea-762cfcc35f89"
      },
      "outputs": [
        {
          "name": "stdout",
          "output_type": "stream",
          "text": [
            "Epoch 0\n",
            "Validation loss: 1.2733, Validation accuracy: 0.5157\n",
            "New best validation accuracy, saving model...\n",
            "Training loss: 1.2733, Training accuracy: 0.5157\n",
            "Epoch 1\n",
            "Validation loss: 1.1652, Validation accuracy: 0.5798\n",
            "New best validation accuracy, saving model...\n",
            "Training loss: 1.1652, Training accuracy: 0.5798\n",
            "Epoch 2\n",
            "Validation loss: 1.0355, Validation accuracy: 0.6330\n",
            "New best validation accuracy, saving model...\n",
            "Training loss: 1.0355, Training accuracy: 0.6330\n",
            "Epoch 3\n",
            "Validation loss: 1.0844, Validation accuracy: 0.6698\n",
            "New best validation accuracy, saving model...\n",
            "Training loss: 1.0844, Training accuracy: 0.6698\n",
            "Epoch 4\n",
            "Validation loss: 0.8442, Validation accuracy: 0.7326\n",
            "New best validation accuracy, saving model...\n",
            "Training loss: 0.8442, Training accuracy: 0.7326\n",
            "Epoch 5\n",
            "Validation loss: 0.8457, Validation accuracy: 0.7135\n",
            "Training loss: 0.8457, Training accuracy: 0.7135\n",
            "Epoch 6\n",
            "Validation loss: 0.8620, Validation accuracy: 0.7108\n",
            "Training loss: 0.8620, Training accuracy: 0.7108\n",
            "Epoch 7\n",
            "Validation loss: 0.8254, Validation accuracy: 0.7340\n",
            "New best validation accuracy, saving model...\n",
            "Training loss: 0.8254, Training accuracy: 0.7340\n",
            "Epoch 8\n",
            "Validation loss: 0.9025, Validation accuracy: 0.7040\n",
            "Training loss: 0.9025, Training accuracy: 0.7040\n",
            "Epoch 9\n",
            "Validation loss: 0.8624, Validation accuracy: 0.7312\n",
            "Training loss: 0.8624, Training accuracy: 0.7312\n",
            "Epoch 10\n",
            "Validation loss: 0.8232, Validation accuracy: 0.7299\n",
            "Training loss: 0.8232, Training accuracy: 0.7299\n",
            "Epoch 11\n",
            "Validation loss: 0.8286, Validation accuracy: 0.7162\n",
            "Training loss: 0.8286, Training accuracy: 0.7162\n",
            "Epoch 12\n",
            "Validation loss: 0.9920, Validation accuracy: 0.6794\n",
            "Training loss: 0.9920, Training accuracy: 0.6794\n",
            "Epoch 13\n",
            "Validation loss: 0.8200, Validation accuracy: 0.7080\n",
            "Training loss: 0.8200, Training accuracy: 0.7080\n",
            "Epoch 14\n",
            "Validation loss: 0.8174, Validation accuracy: 0.7203\n",
            "Training loss: 0.8174, Training accuracy: 0.7203\n",
            "Epoch 15\n",
            "Validation loss: 0.8088, Validation accuracy: 0.7271\n",
            "Training loss: 0.8088, Training accuracy: 0.7271\n",
            "Epoch 16\n",
            "Validation loss: 0.8010, Validation accuracy: 0.7271\n",
            "Training loss: 0.8010, Training accuracy: 0.7271\n",
            "Epoch 17\n",
            "Validation loss: 0.8029, Validation accuracy: 0.7149\n",
            "Training loss: 0.8029, Training accuracy: 0.7149\n",
            "Epoch 18\n",
            "Validation loss: 0.8637, Validation accuracy: 0.7162\n",
            "Training loss: 0.8637, Training accuracy: 0.7162\n",
            "Epoch 19\n",
            "Validation loss: 0.8333, Validation accuracy: 0.7149\n",
            "Training loss: 0.8333, Training accuracy: 0.7149\n",
            "Epoch 20\n",
            "Validation loss: 0.8007, Validation accuracy: 0.7353\n",
            "New best validation accuracy, saving model...\n",
            "Training loss: 0.8007, Training accuracy: 0.7353\n",
            "Epoch 21\n",
            "Validation loss: 0.8787, Validation accuracy: 0.7149\n",
            "Training loss: 0.8787, Training accuracy: 0.7149\n",
            "Epoch 22\n",
            "Validation loss: 0.7958, Validation accuracy: 0.7312\n",
            "Training loss: 0.7958, Training accuracy: 0.7312\n",
            "Epoch 23\n",
            "Validation loss: 0.8433, Validation accuracy: 0.6971\n",
            "Training loss: 0.8433, Training accuracy: 0.6971\n",
            "Epoch 24\n",
            "Validation loss: 0.8041, Validation accuracy: 0.7340\n",
            "Training loss: 0.8041, Training accuracy: 0.7340\n"
          ]
        }
      ],
      "source": [
        "convs_train,conv_val,conv_student = kd(conv_teacher,conv_student,optimizer,0.25,11,'conv_self.pth')"
      ]
    },
    {
      "cell_type": "code",
      "execution_count": null,
      "id": "1d494968-3fa9-4339-aae4-46b85e81e282",
      "metadata": {
        "id": "1d494968-3fa9-4339-aae4-46b85e81e282",
        "outputId": "eeab596b-54b6-4d19-ff2c-9b9d2e71cbf2"
      },
      "outputs": [
        {
          "name": "stdout",
          "output_type": "stream",
          "text": [
            "Accuracy: 73.40%\n",
            "\n",
            "Correct: 538\n",
            "\n",
            "Total: 733\n"
          ]
        }
      ],
      "source": [
        "test_model(conv_student)"
      ]
    },
    {
      "cell_type": "code",
      "execution_count": null,
      "id": "5a7ebe22-b99b-476e-8db3-291d1037dbc3",
      "metadata": {
        "id": "5a7ebe22-b99b-476e-8db3-291d1037dbc3",
        "outputId": "2e2af252-4642-488e-8e77-6e05670f4f75"
      },
      "outputs": [
        {
          "data": {
            "text/plain": [
              "<All keys matched successfully>"
            ]
          },
          "execution_count": 26,
          "metadata": {},
          "output_type": "execute_result"
        }
      ],
      "source": [
        "conv_student_best = models.convnext_tiny(weights=None)\n",
        "conv_student_best.classifier[2] = nn.Linear(768,5)\n",
        "conv_student_best = conv_student_best.to(device)\n",
        "conv_student_best.load_state_dict(torch.load('conv_self.pth'))"
      ]
    },
    {
      "cell_type": "code",
      "execution_count": null,
      "id": "1016596f-cb1b-4250-bb82-ba4690011762",
      "metadata": {
        "id": "1016596f-cb1b-4250-bb82-ba4690011762",
        "outputId": "49932a9c-c838-4684-b98c-099b23b544b3"
      },
      "outputs": [
        {
          "name": "stdout",
          "output_type": "stream",
          "text": [
            "Accuracy: 73.53%\n",
            "\n",
            "Correct: 539\n",
            "\n",
            "Total: 733\n"
          ]
        }
      ],
      "source": [
        "test_model(conv_student_best)"
      ]
    },
    {
      "cell_type": "code",
      "execution_count": null,
      "id": "c4849ae7-e965-4cd5-9417-01adaf94c734",
      "metadata": {
        "id": "c4849ae7-e965-4cd5-9417-01adaf94c734"
      },
      "outputs": [],
      "source": [
        "results = {'swin_train':swin_train,'swin_val':swin_val}\n",
        "file = open('t4_results.txt','w')\n",
        "for result in results:\n",
        "\tfile.write(str(result)+\"\\n\")\n",
        "file.close()\n"
      ]
    },
    {
      "cell_type": "markdown",
      "id": "9b9dce7c-00a4-4b51-864d-4d281fca75e5",
      "metadata": {
        "id": "9b9dce7c-00a4-4b51-864d-4d281fca75e5"
      },
      "source": [
        "TRAIN THE CONVNEXT BASELINE MODEL FOR 25 MORE EPOCHS"
      ]
    },
    {
      "cell_type": "code",
      "execution_count": null,
      "id": "ea9e4060-501c-4610-b33d-8cd079c4c9ad",
      "metadata": {
        "id": "ea9e4060-501c-4610-b33d-8cd079c4c9ad"
      },
      "outputs": [],
      "source": [
        "optimizer = optim.Adam(convnext_model_baseline.parameters(), lr=0.0001, betas=(0.9, 0.999), eps=1e-08, weight_decay=1e-5)\n",
        "scheduler = optim.lr_scheduler.StepLR(optimizer,12,0.1)"
      ]
    },
    {
      "cell_type": "code",
      "execution_count": null,
      "id": "dc60ef6e-9fed-488f-8604-c8defc1a06ef",
      "metadata": {
        "id": "dc60ef6e-9fed-488f-8604-c8defc1a06ef",
        "outputId": "ece58133-602b-4b36-df8f-67f96237e995"
      },
      "outputs": [
        {
          "name": "stdout",
          "output_type": "stream",
          "text": [
            "Saving model....\n",
            "Training loss: 0.7438, Training accuracy: 0.7245\n",
            "\n",
            " Validation accuracy: 0.7269\n",
            "Saving model....\n",
            "Training loss: 0.7365, Training accuracy: 0.7293\n",
            "\n",
            " Validation accuracy: 0.7297\n",
            "Training loss: 0.7373, Training accuracy: 0.7252\n",
            "\n",
            " Validation accuracy: 0.7275\n",
            "Training loss: 0.7339, Training accuracy: 0.7252\n",
            "\n",
            " Validation accuracy: 0.7277\n",
            "Saving model....\n",
            "Training loss: 0.7326, Training accuracy: 0.7282\n",
            "\n",
            " Validation accuracy: 0.7305\n",
            "Training loss: 0.7300, Training accuracy: 0.7286\n",
            "\n",
            " Validation accuracy: 0.7305\n",
            "Saving model....\n",
            "Training loss: 0.7296, Training accuracy: 0.7279\n",
            "\n",
            " Validation accuracy: 0.7310\n",
            "Saving model....\n",
            "Training loss: 0.7283, Training accuracy: 0.7303\n",
            "\n",
            " Validation accuracy: 0.7329\n",
            "Training loss: 0.7301, Training accuracy: 0.7272\n",
            "\n",
            " Validation accuracy: 0.7307\n",
            "Training loss: 0.7284, Training accuracy: 0.7235\n",
            "\n",
            " Validation accuracy: 0.7288\n",
            "Training loss: 0.7248, Training accuracy: 0.7293\n",
            "\n",
            " Validation accuracy: 0.7291\n",
            "Training loss: 0.7297, Training accuracy: 0.7235\n",
            "\n",
            " Validation accuracy: 0.7261\n",
            "Saving model....\n",
            "Training loss: 0.7216, Training accuracy: 0.7320\n",
            "\n",
            " Validation accuracy: 0.7340\n",
            "Training loss: 0.7220, Training accuracy: 0.7245\n",
            "\n",
            " Validation accuracy: 0.7277\n",
            "Training loss: 0.7242, Training accuracy: 0.7265\n",
            "\n",
            " Validation accuracy: 0.7291\n",
            "Training loss: 0.7200, Training accuracy: 0.7272\n",
            "\n",
            " Validation accuracy: 0.7297\n",
            "Training loss: 0.7212, Training accuracy: 0.7286\n",
            "\n",
            " Validation accuracy: 0.7297\n",
            "Training loss: 0.7232, Training accuracy: 0.7262\n",
            "\n",
            " Validation accuracy: 0.7299\n",
            "Training loss: 0.7207, Training accuracy: 0.7299\n",
            "\n",
            " Validation accuracy: 0.7316\n",
            "Training loss: 0.7187, Training accuracy: 0.7303\n",
            "\n",
            " Validation accuracy: 0.7310\n",
            "Training loss: 0.7219, Training accuracy: 0.7245\n",
            "\n",
            " Validation accuracy: 0.7269\n",
            "Training loss: 0.7172, Training accuracy: 0.7282\n",
            "\n",
            " Validation accuracy: 0.7294\n",
            "Training loss: 0.7169, Training accuracy: 0.7258\n",
            "\n",
            " Validation accuracy: 0.7294\n",
            "Training loss: 0.7121, Training accuracy: 0.7286\n",
            "\n",
            " Validation accuracy: 0.7302\n",
            "Training loss: 0.7186, Training accuracy: 0.7245\n",
            "\n",
            " Validation accuracy: 0.7283\n"
          ]
        }
      ],
      "source": [
        "#optimizer = optim.Adam(convnext_model.parameters(), lr=0.0006, betas=(0.9, 0.999), eps=1e-08, weight_decay=1e-5)\n",
        "epochs = 25\n",
        "#train_losses = []\n",
        "#train_accs = []\n",
        "best_acc = 0\n",
        "batch = 0\n",
        "best_val_acc = 0.7228  ## continuting the teacher training for another 25 epochs\n",
        "\n",
        "for epoch in range(epochs):\n",
        "  correct_examples = 0\n",
        "  total_examples = 0\n",
        "  train_loss = 0\n",
        "  convnext_model_baseline.train()\n",
        "  for inputs,targets in train_dataloader:\n",
        "    inputs = inputs.to(device)\n",
        "    targets = targets.to(device)\n",
        "    optimizer.zero_grad()\n",
        "\n",
        "    model_logits = convnext_model_baseline(inputs)\n",
        "    model_predictions = torch.argmax(model_logits,dim=1)\n",
        "    loss = criterion(model_logits,targets)\n",
        "    loss.backward()\n",
        "    optimizer.step()\n",
        "\n",
        "    train_loss += loss.item()\n",
        "    correct_examples += torch.sum((model_predictions==targets))\n",
        "    total_examples += targets.numel()\n",
        "\n",
        "  avg_loss = train_loss / len(train_dataloader)\n",
        "  avg_acc = correct_examples / total_examples\n",
        "  train_losses.append(avg_loss)\n",
        "  train_accs.append(avg_acc)\n",
        "\n",
        "\n",
        "  convnext_model_baseline.eval()\n",
        "  with torch.no_grad():\n",
        "    for inputs,targets in test_dataloader:\n",
        "      inputs = inputs.to(device)\n",
        "      targets = targets.to(device)\n",
        "      optimizer.zero_grad()\n",
        "      model_logits = convnext_model_baseline(inputs)\n",
        "      model_predictions = torch.argmax(model_logits,dim=1)\n",
        "      correct_examples += torch.sum((model_predictions==targets))\n",
        "      total_examples += targets.numel()\n",
        "\n",
        "  avg_val_acc = correct_examples / total_examples\n",
        "  train_accs.append(avg_val_acc)\n",
        "\n",
        "  ## save the best model\n",
        "  if avg_val_acc > best_val_acc:\n",
        "    best_val_acc = avg_val_acc\n",
        "    torch.save(convnext_model_baseline.state_dict(), 'convnext_model_baseline_extended.pth')\n",
        "    print('Saving model....')\n",
        "  print(\"Training loss: %.4f, Training accuracy: %.4f\" %(avg_loss, avg_acc))\n",
        "  print(\"\\n Validation accuracy: %.4f\" %(avg_val_acc))"
      ]
    },
    {
      "cell_type": "code",
      "execution_count": null,
      "id": "277fdc71-648d-4c28-bd23-38718c88445f",
      "metadata": {
        "id": "277fdc71-648d-4c28-bd23-38718c88445f",
        "outputId": "c3ed25f6-b9a0-4223-d669-e15650c848af"
      },
      "outputs": [
        {
          "name": "stdout",
          "output_type": "stream",
          "text": [
            "Accuracy: 74.35%\n",
            "\n",
            "Correct: 545\n",
            "\n",
            "Total: 733\n"
          ]
        }
      ],
      "source": [
        "test_model(convnext_model_baseline)"
      ]
    }
  ],
  "metadata": {
    "kernelspec": {
      "display_name": "Python 3 (ipykernel)",
      "language": "python",
      "name": "python3"
    },
    "language_info": {
      "codemirror_mode": {
        "name": "ipython",
        "version": 3
      },
      "file_extension": ".py",
      "mimetype": "text/x-python",
      "name": "python",
      "nbconvert_exporter": "python",
      "pygments_lexer": "ipython3",
      "version": "3.10.13"
    },
    "colab": {
      "provenance": []
    }
  },
  "nbformat": 4,
  "nbformat_minor": 5
}