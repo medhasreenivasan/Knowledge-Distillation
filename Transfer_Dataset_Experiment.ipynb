{
  "nbformat": 4,
  "nbformat_minor": 0,
  "metadata": {
    "colab": {
      "provenance": [],
      "gpuType": "T4"
    },
    "kernelspec": {
      "name": "python3",
      "display_name": "Python 3"
    },
    "language_info": {
      "name": "python"
    },
    "accelerator": "GPU"
  },
  "cells": [
    {
      "cell_type": "code",
      "execution_count": null,
      "metadata": {
        "id": "z9OPDGvdfuPC"
      },
      "outputs": [],
      "source": [
        "import torch\n",
        "import numpy as np\n",
        "import torch.nn as nn\n",
        "import torch.nn.functional as F\n",
        "import torch.optim as optim\n",
        "import torch\n",
        "from torchvision import datasets, transforms\n",
        "from torch.utils.data import DataLoader,random_split"
      ]
    },
    {
      "cell_type": "code",
      "source": [
        "\n",
        "from google.colab import drive\n",
        "drive.mount('/content/drive')"
      ],
      "metadata": {
        "colab": {
          "base_uri": "https://localhost:8080/"
        },
        "id": "G52LYmPSfvCP",
        "outputId": "b1ab46e2-cc5c-48dc-a00e-3961b4d96a38"
      },
      "execution_count": null,
      "outputs": [
        {
          "output_type": "stream",
          "name": "stdout",
          "text": [
            "Mounted at /content/drive\n"
          ]
        }
      ]
    },
    {
      "cell_type": "code",
      "source": [
        "cd drive/MyDrive/DL/Final_Project/"
      ],
      "metadata": {
        "colab": {
          "base_uri": "https://localhost:8080/"
        },
        "id": "SCVSAYAQyKxA",
        "outputId": "6918324d-c504-41e2-deea-79b4a2b49a47"
      },
      "execution_count": null,
      "outputs": [
        {
          "output_type": "stream",
          "name": "stdout",
          "text": [
            "/content/drive/MyDrive/DL/Final_Project\n"
          ]
        }
      ]
    },
    {
      "cell_type": "code",
      "source": [
        "device = 'cuda' if torch.cuda.is_available() else 'cpu'\n",
        "print('Device in use:',device)"
      ],
      "metadata": {
        "colab": {
          "base_uri": "https://localhost:8080/"
        },
        "id": "26_Am97HfzAY",
        "outputId": "12acb994-c61f-40ce-fcfa-f4a02e71d465"
      },
      "execution_count": null,
      "outputs": [
        {
          "output_type": "stream",
          "name": "stdout",
          "text": [
            "Device in use: cuda\n"
          ]
        }
      ]
    },
    {
      "cell_type": "code",
      "source": [
        "import matplotlib.pyplot as plt"
      ],
      "metadata": {
        "id": "MCZCyNODXUxY"
      },
      "execution_count": null,
      "outputs": []
    },
    {
      "cell_type": "code",
      "source": [
        "\n",
        "def get_mnist_dataloader(batch_size=64, shuffle=True,model='teacher',omit=None):\n",
        "    # Define the data transformation\n",
        "    if model == 'teacher':\n",
        "      transform_train = transforms.Compose([\n",
        "          transforms.ToTensor(),  # Convert images to PyTorch tensors\n",
        "          transforms.Normalize((0.5,), (0.5,)),  # Normalize the pixel values to the range [-1, 1]\n",
        "          transforms.RandomAffine(0,(0.2,0.2))\n",
        "      ])\n",
        "    else:\n",
        "      transform_train = transforms.Compose([\n",
        "          transforms.ToTensor(),  # Convert images to PyTorch tensors\n",
        "          transforms.Normalize((0.5,), (0.5,)),  # Normalize the pixel values to the range [-1, 1]\n",
        "      ])\n",
        "\n",
        "    transform_test = transforms.Compose([\n",
        "        transforms.ToTensor(),  # Convert images to PyTorch tensors\n",
        "        transforms.Normalize((0.5,), (0.5,)),  # Normalize the pixel values to the range [-1, 1]\n",
        "\n",
        "    ])\n",
        "\n",
        "    # Download MNIST dataset\n",
        "    mnist_train = datasets.MNIST(root='./data', train=True, download=True, transform=transform_train)\n",
        "    mnist_test = datasets.MNIST(root='./data', train=False, download=True, transform=transform_test)\n",
        "\n",
        "    # Omit specific labels\n",
        "    if omit is not None:\n",
        "        indices = [i for i, (image, label) in enumerate(mnist_train) if label != omit]\n",
        "        mnist_train = torch.utils.data.Subset(mnist_train, indices)\n",
        "\n",
        "    # Create data loaders\n",
        "    train_loader = DataLoader(dataset=mnist_train, batch_size=batch_size, shuffle=shuffle)\n",
        "    test_loader = DataLoader(dataset=mnist_test, batch_size=batch_size, shuffle=False)\n",
        "\n",
        "    return train_loader, test_loader\n",
        "\n",
        "## get the training, validation and testing datasets\n"
      ],
      "metadata": {
        "id": "sVyS--HmfzJC"
      },
      "execution_count": null,
      "outputs": []
    },
    {
      "cell_type": "code",
      "source": [
        "## general training function\n",
        "def train_model(model,optimizer,criterion,model_name,train_loader,epochs,t=1):\n",
        "  train_losses, train_accs = [],[]\n",
        "  teacher = {}\n",
        "  teacher['T'] = t\n",
        "  ## keep track of acc to save the best model\n",
        "  best_acc = 0\n",
        "\n",
        "  for epoch in range(epochs):\n",
        "    print(f\"----------------------------------EPOCH {epoch}--------------------------------------\")\n",
        "    train_loss = 0\n",
        "    total_examples = 0\n",
        "    correct_examples = 0\n",
        "    model.train()\n",
        "    ## model training\n",
        "    for inputs, targets in train_loader:\n",
        "      inputs = inputs.to(device)\n",
        "      targets = targets.to(device)\n",
        "      optimizer.zero_grad()\n",
        "      model_outputs = model(inputs)\n",
        "      output_predictions = torch.argmax(model_outputs, dim=1)\n",
        "      model_outputs /= t\n",
        "      model_loss = criterion(model_outputs, targets)\n",
        "      model_loss.backward()\n",
        "      optimizer.step()\n",
        "\n",
        "      train_loss += model_loss.item()\n",
        "      correct_examples += torch.sum((output_predictions==targets))\n",
        "      total_examples += targets.size(0)\n",
        "    ## compute the average training loss/acc for the epoch\n",
        "\n",
        "    avg_loss = train_loss / len(train_loader)\n",
        "    avg_acc = correct_examples / total_examples\n",
        "    train_losses.append(avg_loss)\n",
        "    train_accs.append(avg_acc)\n",
        "    print(\"\\n Training loss: %.4f, Training accuracy: %.4f\" %(avg_loss, avg_acc))\n",
        "\n",
        "    ## save the best model\n",
        "    if avg_acc > best_acc:\n",
        "      best_acc = avg_acc\n",
        "      torch.save(model.state_dict(), model_name)\n",
        "      print('Saving model....')\n",
        "\n",
        "  ## save the results\n",
        "  teacher['train loss'] = train_losses\n",
        "  teacher['train accs'] = train_accs\n",
        "  teacher['best acc'] = best_acc\n",
        "\n",
        "  ## plot the learning curve for training/validation\n",
        "  plt.plot(np.arange(1,epochs+1),np.array(train_losses),label='training curve')\n",
        "  plt.xlabel('Epochs')\n",
        "  plt.ylabel('Loss')\n",
        "  plt.legend()\n",
        "  plt.title('Training and Validation Curves')\n",
        "\n",
        "  return teacher\n"
      ],
      "metadata": {
        "id": "HU7FwKEmVF4-"
      },
      "execution_count": null,
      "outputs": []
    },
    {
      "cell_type": "code",
      "source": [
        "def test_model(test_model,teacher):\n",
        "  correct_examples = 0\n",
        "  total_examples = 0\n",
        "  test_model.eval()\n",
        "\n",
        "  with torch.no_grad():\n",
        "      for test_data, test_labels in test_loader:\n",
        "          # Assuming your_model is your trained neural network\n",
        "          test_data=test_data.to(device)\n",
        "          test_labels=test_labels.to(device)\n",
        "          output_predictions = test_model(test_data)\n",
        "\n",
        "          # Calculate accuracy\n",
        "          _, predicted = torch.max(output_predictions, 1)\n",
        "          correct_examples += (predicted == test_labels).sum().item()\n",
        "          total_examples += test_labels.size(0)\n",
        "\n",
        "  accuracy = correct_examples / total_examples\n",
        "  print(f\"Accuracy: {accuracy * 100:.2f}%\")\n",
        "  print(\"\\nCorrect:\",correct_examples)\n",
        "  print(\"\\nTotal:\",total_examples)\n",
        "  teacher['correct'] = correct_examples\n",
        "  teacher['test acc'] = accuracy"
      ],
      "metadata": {
        "id": "ocEuhDH_0ZMb"
      },
      "execution_count": null,
      "outputs": []
    },
    {
      "cell_type": "code",
      "source": [
        "## define the teacher architecture\n",
        "class parent(nn.Module):\n",
        "  def __init__(self):\n",
        "    super(parent, self).__init__()\n",
        "    self.linear1 = nn.Linear(28*28, 1200)\n",
        "    self.linear2 = nn.Linear(1200,1200)\n",
        "    self.linear3 = nn.Linear(1200, 10)\n",
        "    self.dropout_hidden = nn.Dropout(0.5)\n",
        "    self.dropout_visible = nn.Dropout(0.2)\n",
        "\n",
        "  def forward(self,x):\n",
        "    flatten = x.view(x.size(0),-1)\n",
        "    x = self.dropout_visible(flatten)\n",
        "    x = F.relu(self.linear1(x))\n",
        "    x = F.relu(self.linear2(x))\n",
        "    x = self.dropout_hidden(x)\n",
        "    x = self.linear3(x)\n",
        "    return x"
      ],
      "metadata": {
        "id": "gMa0tZNff3p3"
      },
      "execution_count": null,
      "outputs": []
    },
    {
      "cell_type": "code",
      "source": [
        "## define the student architecture\n",
        "class student(nn.Module):\n",
        "  def __init__(self):\n",
        "    super(student, self).__init__()\n",
        "    self.linear1 = nn.Linear(28*28, 30)\n",
        "    self.linear2 = nn.Linear(30,30)\n",
        "    self.linear3 = nn.Linear(30, 10)\n",
        "\n",
        "  def forward(self,x):\n",
        "    flatten = x.view(x.size(0),-1)\n",
        "    x = F.relu(self.linear1(flatten))\n",
        "    x = F.relu(self.linear2(x))\n",
        "    x = self.linear3(x)\n",
        "    return x"
      ],
      "metadata": {
        "id": "ovEzcnnmf5bq"
      },
      "execution_count": null,
      "outputs": []
    },
    {
      "cell_type": "code",
      "source": [
        "## load the teacher model trained on the full MNIST dataset\n",
        "teacher_model = parent()\n",
        "teacher_model = teacher_model.to(device)\n",
        "optimizer_large = optim.SGD(teacher_model.parameters(), lr=0.01, momentum=0.9)\n",
        "criterion_large = nn.CrossEntropyLoss()\n",
        "teacher_model.load_state_dict(torch.load('teacher.pth'))"
      ],
      "metadata": {
        "colab": {
          "base_uri": "https://localhost:8080/"
        },
        "id": "RxNrzUxEl0Ac",
        "outputId": "f909e6aa-6440-4cbb-9e62-04d34206dff3"
      },
      "execution_count": null,
      "outputs": [
        {
          "output_type": "execute_result",
          "data": {
            "text/plain": [
              "<All keys matched successfully>"
            ]
          },
          "metadata": {},
          "execution_count": 11
        }
      ]
    },
    {
      "cell_type": "markdown",
      "source": [
        "## Student model trained with missing number\n"
      ],
      "metadata": {
        "id": "pVGchHawXbC9"
      }
    },
    {
      "cell_type": "code",
      "source": [
        "number = 9\n",
        "train_loader, test_loader = get_mnist_dataloader(batch_size=64, shuffle=True,model='student',omit=number)\n",
        "optimal_alpha = 0.5\n",
        "optimal_temp = 2.5\n"
      ],
      "metadata": {
        "id": "O6DYb9HOXhih"
      },
      "execution_count": null,
      "outputs": []
    },
    {
      "cell_type": "code",
      "source": [
        "# Training the smaller Network\n",
        "smaller_net = student()\n",
        "smaller_net = smaller_net.to(device)\n",
        "optimizer_small = optim.SGD(smaller_net.parameters(), lr=0.01, momentum=0.9)\n",
        "criterion_small = nn.CrossEntropyLoss()\n",
        "\n",
        "train_model(smaller_net,optimizer_small,criterion_small,'studentw9.pth',train_loader,30)"
      ],
      "metadata": {
        "colab": {
          "base_uri": "https://localhost:8080/",
          "height": 1000
        },
        "id": "7ts_a31IXjLi",
        "outputId": "7b0d01fc-6abe-4d46-a351-6b9cb74239e3"
      },
      "execution_count": null,
      "outputs": [
        {
          "output_type": "stream",
          "name": "stdout",
          "text": [
            "----------------------------------EPOCH 0--------------------------------------\n",
            "\n",
            " Training loss: 0.4297, Training accuracy: 0.8667\n",
            "Saving model....\n",
            "----------------------------------EPOCH 1--------------------------------------\n",
            "\n",
            " Training loss: 0.2000, Training accuracy: 0.9398\n",
            "Saving model....\n",
            "----------------------------------EPOCH 2--------------------------------------\n",
            "\n",
            " Training loss: 0.1558, Training accuracy: 0.9524\n",
            "Saving model....\n",
            "----------------------------------EPOCH 3--------------------------------------\n",
            "\n",
            " Training loss: 0.1351, Training accuracy: 0.9589\n",
            "Saving model....\n",
            "----------------------------------EPOCH 4--------------------------------------\n",
            "\n",
            " Training loss: 0.1230, Training accuracy: 0.9627\n",
            "Saving model....\n",
            "----------------------------------EPOCH 5--------------------------------------\n",
            "\n",
            " Training loss: 0.1144, Training accuracy: 0.9635\n",
            "Saving model....\n",
            "----------------------------------EPOCH 6--------------------------------------\n",
            "\n",
            " Training loss: 0.1081, Training accuracy: 0.9667\n",
            "Saving model....\n",
            "----------------------------------EPOCH 7--------------------------------------\n",
            "\n",
            " Training loss: 0.0999, Training accuracy: 0.9695\n",
            "Saving model....\n",
            "----------------------------------EPOCH 8--------------------------------------\n",
            "\n",
            " Training loss: 0.0924, Training accuracy: 0.9713\n",
            "Saving model....\n",
            "----------------------------------EPOCH 9--------------------------------------\n",
            "\n",
            " Training loss: 0.0875, Training accuracy: 0.9730\n",
            "Saving model....\n",
            "----------------------------------EPOCH 10--------------------------------------\n",
            "\n",
            " Training loss: 0.0839, Training accuracy: 0.9737\n",
            "Saving model....\n",
            "----------------------------------EPOCH 11--------------------------------------\n",
            "\n",
            " Training loss: 0.0820, Training accuracy: 0.9740\n",
            "Saving model....\n",
            "----------------------------------EPOCH 12--------------------------------------\n",
            "\n",
            " Training loss: 0.0767, Training accuracy: 0.9755\n",
            "Saving model....\n",
            "----------------------------------EPOCH 13--------------------------------------\n",
            "\n",
            " Training loss: 0.0756, Training accuracy: 0.9763\n",
            "Saving model....\n",
            "----------------------------------EPOCH 14--------------------------------------\n",
            "\n",
            " Training loss: 0.0733, Training accuracy: 0.9767\n",
            "Saving model....\n",
            "----------------------------------EPOCH 15--------------------------------------\n",
            "\n",
            " Training loss: 0.0690, Training accuracy: 0.9770\n",
            "Saving model....\n",
            "----------------------------------EPOCH 16--------------------------------------\n",
            "\n",
            " Training loss: 0.0679, Training accuracy: 0.9783\n",
            "Saving model....\n",
            "----------------------------------EPOCH 17--------------------------------------\n",
            "\n",
            " Training loss: 0.0657, Training accuracy: 0.9792\n",
            "Saving model....\n",
            "----------------------------------EPOCH 18--------------------------------------\n",
            "\n",
            " Training loss: 0.0636, Training accuracy: 0.9791\n",
            "----------------------------------EPOCH 19--------------------------------------\n",
            "\n",
            " Training loss: 0.0626, Training accuracy: 0.9799\n",
            "Saving model....\n",
            "----------------------------------EPOCH 20--------------------------------------\n",
            "\n",
            " Training loss: 0.0616, Training accuracy: 0.9796\n",
            "----------------------------------EPOCH 21--------------------------------------\n",
            "\n",
            " Training loss: 0.0594, Training accuracy: 0.9807\n",
            "Saving model....\n",
            "----------------------------------EPOCH 22--------------------------------------\n",
            "\n",
            " Training loss: 0.0544, Training accuracy: 0.9822\n",
            "Saving model....\n",
            "----------------------------------EPOCH 23--------------------------------------\n",
            "\n",
            " Training loss: 0.0561, Training accuracy: 0.9813\n",
            "----------------------------------EPOCH 24--------------------------------------\n",
            "\n",
            " Training loss: 0.0560, Training accuracy: 0.9821\n",
            "----------------------------------EPOCH 25--------------------------------------\n",
            "\n",
            " Training loss: 0.0556, Training accuracy: 0.9819\n",
            "----------------------------------EPOCH 26--------------------------------------\n",
            "\n",
            " Training loss: 0.0551, Training accuracy: 0.9823\n",
            "Saving model....\n",
            "----------------------------------EPOCH 27--------------------------------------\n",
            "\n",
            " Training loss: 0.0553, Training accuracy: 0.9818\n",
            "----------------------------------EPOCH 28--------------------------------------\n",
            "\n",
            " Training loss: 0.0496, Training accuracy: 0.9839\n",
            "Saving model....\n",
            "----------------------------------EPOCH 29--------------------------------------\n",
            "\n",
            " Training loss: 0.0526, Training accuracy: 0.9831\n"
          ]
        },
        {
          "output_type": "execute_result",
          "data": {
            "text/plain": [
              "{'T': 1,\n",
              " 'train loss': [0.4296594686056735,\n",
              "  0.19997716423057946,\n",
              "  0.155778922700494,\n",
              "  0.13514320274605554,\n",
              "  0.12304284541410278,\n",
              "  0.11440049087099687,\n",
              "  0.10805288167483003,\n",
              "  0.09990357374662213,\n",
              "  0.09236387582220269,\n",
              "  0.08752956696504936,\n",
              "  0.08391514301366178,\n",
              "  0.08202080088460917,\n",
              "  0.07673244062430892,\n",
              "  0.07563427537211255,\n",
              "  0.07328073178699031,\n",
              "  0.06896240296718505,\n",
              "  0.06791789199903431,\n",
              "  0.06572896893764432,\n",
              "  0.06363666193200188,\n",
              "  0.06263906302577375,\n",
              "  0.061587796182669255,\n",
              "  0.05939853123165998,\n",
              "  0.054369603029931705,\n",
              "  0.056098825619115146,\n",
              "  0.05596413586754352,\n",
              "  0.05560433537218466,\n",
              "  0.055084272582061895,\n",
              "  0.05529857131579516,\n",
              "  0.04957143443928668,\n",
              "  0.052556219122912626],\n",
              " 'train accs': [tensor(0.8667, device='cuda:0'),\n",
              "  tensor(0.9398, device='cuda:0'),\n",
              "  tensor(0.9524, device='cuda:0'),\n",
              "  tensor(0.9589, device='cuda:0'),\n",
              "  tensor(0.9627, device='cuda:0'),\n",
              "  tensor(0.9635, device='cuda:0'),\n",
              "  tensor(0.9667, device='cuda:0'),\n",
              "  tensor(0.9695, device='cuda:0'),\n",
              "  tensor(0.9713, device='cuda:0'),\n",
              "  tensor(0.9730, device='cuda:0'),\n",
              "  tensor(0.9737, device='cuda:0'),\n",
              "  tensor(0.9740, device='cuda:0'),\n",
              "  tensor(0.9755, device='cuda:0'),\n",
              "  tensor(0.9763, device='cuda:0'),\n",
              "  tensor(0.9767, device='cuda:0'),\n",
              "  tensor(0.9770, device='cuda:0'),\n",
              "  tensor(0.9783, device='cuda:0'),\n",
              "  tensor(0.9792, device='cuda:0'),\n",
              "  tensor(0.9791, device='cuda:0'),\n",
              "  tensor(0.9799, device='cuda:0'),\n",
              "  tensor(0.9796, device='cuda:0'),\n",
              "  tensor(0.9807, device='cuda:0'),\n",
              "  tensor(0.9822, device='cuda:0'),\n",
              "  tensor(0.9813, device='cuda:0'),\n",
              "  tensor(0.9821, device='cuda:0'),\n",
              "  tensor(0.9819, device='cuda:0'),\n",
              "  tensor(0.9823, device='cuda:0'),\n",
              "  tensor(0.9818, device='cuda:0'),\n",
              "  tensor(0.9839, device='cuda:0'),\n",
              "  tensor(0.9831, device='cuda:0')],\n",
              " 'best acc': tensor(0.9839, device='cuda:0')}"
            ]
          },
          "metadata": {},
          "execution_count": 66
        },
        {
          "output_type": "display_data",
          "data": {
            "text/plain": [
              "<Figure size 640x480 with 1 Axes>"
            ],
            "image/png": "[encoded data removed]"
          },
          "metadata": {}
        }
      ]
    },
    {
      "cell_type": "code",
      "source": [],
      "metadata": {
        "id": "0tfPU5uqZPTf"
      },
      "execution_count": null,
      "outputs": []
    },
    {
      "cell_type": "markdown",
      "source": [
        "## testing without distillation"
      ],
      "metadata": {
        "id": "dq_vvnEMqNXa"
      }
    },
    {
      "cell_type": "code",
      "source": [
        "curr = {}\n",
        "studentwo = student()\n",
        "studentwo = studentwo.to(device)\n",
        "studentwo.load_state_dict(torch.load('studentw0.pth',map_location=torch.device('cuda')))\n",
        "test_model(studentwo,curr)"
      ],
      "metadata": {
        "colab": {
          "base_uri": "https://localhost:8080/"
        },
        "id": "UZRf0NX1qPzA",
        "outputId": "aa9337f3-0742-4df6-fac1-6d3df9c02774"
      },
      "execution_count": null,
      "outputs": [
        {
          "output_type": "stream",
          "name": "stdout",
          "text": [
            "Accuracy: 86.83%\n",
            "\n",
            "Correct: 8683\n",
            "\n",
            "Total: 10000\n"
          ]
        }
      ]
    },
    {
      "cell_type": "code",
      "source": [
        "curr = {}\n",
        "studentwo = student()\n",
        "studentwo = studentwo.to(device)\n",
        "studentwo.load_state_dict(torch.load('studentw1.pth',map_location=torch.device('cuda')))\n",
        "test_model(studentwo,curr)"
      ],
      "metadata": {
        "colab": {
          "base_uri": "https://localhost:8080/"
        },
        "id": "WRn5pDx_qv-i",
        "outputId": "8bde8b3e-ea57-4043-85b0-25f3bedb2ebc"
      },
      "execution_count": null,
      "outputs": [
        {
          "output_type": "stream",
          "name": "stdout",
          "text": [
            "Accuracy: 85.67%\n",
            "\n",
            "Correct: 8567\n",
            "\n",
            "Total: 10000\n"
          ]
        }
      ]
    },
    {
      "cell_type": "code",
      "source": [
        "curr = {}\n",
        "studentwo = student()\n",
        "studentwo = studentwo.to(device)\n",
        "studentwo.load_state_dict(torch.load('studentw2.pth',map_location=torch.device('cuda')))\n",
        "test_model(studentwo,curr)"
      ],
      "metadata": {
        "colab": {
          "base_uri": "https://localhost:8080/"
        },
        "id": "QFUPQFH0qzXs",
        "outputId": "42e89472-7b8d-45e7-a15a-36dd34559a2b"
      },
      "execution_count": null,
      "outputs": [
        {
          "output_type": "stream",
          "name": "stdout",
          "text": [
            "Accuracy: 86.91%\n",
            "\n",
            "Correct: 8691\n",
            "\n",
            "Total: 10000\n"
          ]
        }
      ]
    },
    {
      "cell_type": "code",
      "source": [
        "curr = {}\n",
        "studentwo = student()\n",
        "studentwo = studentwo.to(device)\n",
        "studentwo.load_state_dict(torch.load('studentw3.pth',map_location=torch.device('cuda')))\n",
        "test_model(studentwo,curr)"
      ],
      "metadata": {
        "colab": {
          "base_uri": "https://localhost:8080/"
        },
        "id": "ew5XLxz6q2v3",
        "outputId": "3462f5c2-669c-41af-99bf-0461e1011082"
      },
      "execution_count": null,
      "outputs": [
        {
          "output_type": "stream",
          "name": "stdout",
          "text": [
            "Accuracy: 87.06%\n",
            "\n",
            "Correct: 8706\n",
            "\n",
            "Total: 10000\n"
          ]
        }
      ]
    },
    {
      "cell_type": "code",
      "source": [
        "curr = {}\n",
        "studentwo = student()\n",
        "studentwo = studentwo.to(device)\n",
        "studentwo.load_state_dict(torch.load('studentw4.pth',map_location=torch.device('cuda')))\n",
        "test_model(studentwo,curr)"
      ],
      "metadata": {
        "colab": {
          "base_uri": "https://localhost:8080/"
        },
        "id": "OtyseIsPq420",
        "outputId": "26d66f8d-ba42-4961-bf07-4b0d985f261a"
      },
      "execution_count": null,
      "outputs": [
        {
          "output_type": "stream",
          "name": "stdout",
          "text": [
            "Accuracy: 87.32%\n",
            "\n",
            "Correct: 8732\n",
            "\n",
            "Total: 10000\n"
          ]
        }
      ]
    },
    {
      "cell_type": "code",
      "source": [
        "curr = {}\n",
        "studentwo = student()\n",
        "studentwo = studentwo.to(device)\n",
        "studentwo.load_state_dict(torch.load('studentw5.pth',map_location=torch.device('cuda')))\n",
        "test_model(studentwo,curr)"
      ],
      "metadata": {
        "colab": {
          "base_uri": "https://localhost:8080/"
        },
        "id": "NliZBtREq7S2",
        "outputId": "61200664-5f0b-47b1-840d-764074cfcc61"
      },
      "execution_count": null,
      "outputs": [
        {
          "output_type": "stream",
          "name": "stdout",
          "text": [
            "Accuracy: 88.38%\n",
            "\n",
            "Correct: 8838\n",
            "\n",
            "Total: 10000\n"
          ]
        }
      ]
    },
    {
      "cell_type": "code",
      "source": [
        "curr = {}\n",
        "studentwo = student()\n",
        "studentwo = studentwo.to(device)\n",
        "studentwo.load_state_dict(torch.load('studentw6.pth',map_location=torch.device('cuda')))\n",
        "test_model(studentwo,curr)"
      ],
      "metadata": {
        "colab": {
          "base_uri": "https://localhost:8080/"
        },
        "id": "A6pKqfZBq_4X",
        "outputId": "7f1db598-45ed-49a3-e951-4e028a99cf75"
      },
      "execution_count": null,
      "outputs": [
        {
          "output_type": "stream",
          "name": "stdout",
          "text": [
            "Accuracy: 87.70%\n",
            "\n",
            "Correct: 8770\n",
            "\n",
            "Total: 10000\n"
          ]
        }
      ]
    },
    {
      "cell_type": "code",
      "source": [
        "curr = {}\n",
        "studentwo = student()\n",
        "studentwo = studentwo.to(device)\n",
        "studentwo.load_state_dict(torch.load('studentw7.pth',map_location=torch.device('cuda')))\n",
        "test_model(studentwo,curr)"
      ],
      "metadata": {
        "colab": {
          "base_uri": "https://localhost:8080/"
        },
        "id": "OL-ac1V4rDh-",
        "outputId": "809df4aa-1b60-4afe-968e-61d1beb904f8"
      },
      "execution_count": null,
      "outputs": [
        {
          "output_type": "stream",
          "name": "stdout",
          "text": [
            "Accuracy: 86.68%\n",
            "\n",
            "Correct: 8668\n",
            "\n",
            "Total: 10000\n"
          ]
        }
      ]
    },
    {
      "cell_type": "code",
      "source": [
        "curr = {}\n",
        "studentwo = student()\n",
        "studentwo = studentwo.to(device)\n",
        "studentwo.load_state_dict(torch.load('studentw8.pth',map_location=torch.device('cuda')))\n",
        "test_model(studentwo,curr)"
      ],
      "metadata": {
        "colab": {
          "base_uri": "https://localhost:8080/"
        },
        "id": "Sw2duir_rF6P",
        "outputId": "3de86ec4-b2bb-43fa-e237-0f64ca492c53"
      },
      "execution_count": null,
      "outputs": [
        {
          "output_type": "stream",
          "name": "stdout",
          "text": [
            "Accuracy: 87.73%\n",
            "\n",
            "Correct: 8773\n",
            "\n",
            "Total: 10000\n"
          ]
        }
      ]
    },
    {
      "cell_type": "code",
      "source": [
        "curr = {}\n",
        "studentwo = student()\n",
        "studentwo = studentwo.to(device)\n",
        "studentwo.load_state_dict(torch.load('studentw9.pth',map_location=torch.device('cuda')))\n",
        "test_model(studentwo,curr)"
      ],
      "metadata": {
        "colab": {
          "base_uri": "https://localhost:8080/"
        },
        "id": "tjUT4MYJrJzK",
        "outputId": "17a7aeee-da2b-465e-c325-91e92fd545ef"
      },
      "execution_count": null,
      "outputs": [
        {
          "output_type": "stream",
          "name": "stdout",
          "text": [
            "Accuracy: 86.99%\n",
            "\n",
            "Correct: 8699\n",
            "\n",
            "Total: 10000\n"
          ]
        }
      ]
    },
    {
      "cell_type": "markdown",
      "source": [
        "Optimal parameters\n",
        "1. alpha = 0.5, temperature = 2.5\n"
      ],
      "metadata": {
        "id": "htUap2lZwL4x"
      }
    },
    {
      "cell_type": "code",
      "source": [
        "grid_results = []"
      ],
      "metadata": {
        "id": "udTXBurs4Aua"
      },
      "execution_count": null,
      "outputs": []
    },
    {
      "cell_type": "code",
      "source": [
        "number = 9\n",
        "train_loader, test_loader = get_mnist_dataloader(batch_size=64, shuffle=True,model='student',omit=number)\n",
        "a = 0.5\n",
        "t = 2.5\n"
      ],
      "metadata": {
        "id": "4SmrV8pTmHuK"
      },
      "execution_count": null,
      "outputs": []
    },
    {
      "cell_type": "code",
      "source": [
        "## function to perform distillation\n",
        "current_grid = {}\n",
        "current_grid['number'] = number\n",
        "model_name = 'distilled_A'+str(number) + '.pth'\n",
        "val_accs = []\n",
        "best_val_acc = 0\n",
        "## instantiate a new student model for distillation\n",
        "distilled_net = student()\n",
        "distilled_net = distilled_net.to(device)\n",
        "optimizer = optim.SGD(distilled_net.parameters(), lr=0.01, momentum=0.9)\n",
        "\n",
        "## start the training process\n",
        "best_acc = 0\n",
        "train_losses = []\n",
        "train_accs = []\n",
        "for epoch in range(0,30):\n",
        "  train_loss = 0\n",
        "  correct_examples = 0\n",
        "  total_examples = 0\n",
        "  distilled_net.train()\n",
        "  for inputs, targets in train_loader:\n",
        "      inputs = inputs.to(device)\n",
        "      targets = targets.to(device)\n",
        "      optimizer.zero_grad()\n",
        "\n",
        "      student_targets = distilled_net(inputs)  ## student softmax values\n",
        "      teacher_targets = teacher_model(inputs) ## teacher softmax values\n",
        "      loss = a*F.cross_entropy(student_targets/t, F.softmax(teacher_targets/t,dim=1))*(t**2) + F.cross_entropy(student_targets, targets)*(1-a)\n",
        "\n",
        "      output_predictions = torch.argmax(student_targets, dim=1)\n",
        "      loss.backward()\n",
        "      optimizer.step()\n",
        "      train_loss += loss.item()\n",
        "      correct_examples += torch.sum((output_predictions==targets))\n",
        "      total_examples += targets.numel()\n",
        "\n",
        "  avg_loss = train_loss / len(train_loader)\n",
        "  avg_acc = correct_examples / total_examples\n",
        "  train_losses.append(avg_loss)\n",
        "  train_accs.append(avg_acc)\n",
        "\n",
        "  distilled_net.eval()\n",
        "  with torch.no_grad():\n",
        "    for test_data, test_labels in test_loader:\n",
        "        # Assuming your_model is your trained neural network\n",
        "        test_data=test_data.to(device)\n",
        "        test_labels=test_labels.to(device)\n",
        "        output_predictions = distilled_net(test_data)\n",
        "\n",
        "        # Calculate accuracy\n",
        "        _, predicted = torch.max(output_predictions, 1)\n",
        "        correct_examples += (predicted == test_labels).sum().item()\n",
        "        total_examples += test_labels.size(0)\n",
        "\n",
        "  #avg_loss = train_loss / len(student_train_loader)\n",
        "  avg_acc = correct_examples / total_examples\n",
        "  val_accs.append(avg_acc)\n",
        "  ## save the best model\n",
        "  if avg_acc > best_val_acc:\n",
        "    best_val_acc = avg_acc\n",
        "    torch.save(distilled_net.state_dict(), model_name)\n",
        "  #print(\"Training loss: %.4f, Training accuracy: %.4f\" %(avg_loss, avg_acc))\n",
        "\n",
        "## save the results\n",
        "current_grid['best accuracy'] = best_acc\n",
        "current_grid['train loss'] = train_losses\n",
        "current_grid['train accs'] = train_accs\n",
        "\n"
      ],
      "metadata": {
        "id": "0NnYLrKnl7vc"
      },
      "execution_count": null,
      "outputs": []
    },
    {
      "cell_type": "code",
      "source": [
        "grid_results.append(current_grid)"
      ],
      "metadata": {
        "id": "9qhzCiKTnpw7"
      },
      "execution_count": null,
      "outputs": []
    },
    {
      "cell_type": "code",
      "source": [
        "len(grid_results)"
      ],
      "metadata": {
        "colab": {
          "base_uri": "https://localhost:8080/"
        },
        "id": "_3HboNMiz_sS",
        "outputId": "9c724173-a15c-490c-d954-b78d5cb033fb"
      },
      "execution_count": null,
      "outputs": [
        {
          "output_type": "execute_result",
          "data": {
            "text/plain": [
              "2"
            ]
          },
          "metadata": {},
          "execution_count": 28
        }
      ]
    },
    {
      "cell_type": "code",
      "source": [
        "file = open('n710_a25_results.txt','w')\n",
        "for result in grid_results:\n",
        "\tfile.write(str(result)+\"\\n\")\n",
        "file.close()\n"
      ],
      "metadata": {
        "id": "_ISC9V0i0AWB"
      },
      "execution_count": null,
      "outputs": []
    },
    {
      "cell_type": "code",
      "source": [
        "curr = {}\n",
        "distilled_net = student()\n",
        "distilled_net = distilled_net.to(device)\n",
        "distilled_net.load_state_dict(torch.load('distilled_A1.pth',map_location=torch.device('cuda')))\n",
        "test_model(distilled_net,curr)"
      ],
      "metadata": {
        "colab": {
          "base_uri": "https://localhost:8080/"
        },
        "id": "gz7W70Rq0KuE",
        "outputId": "c7f1dbee-6b96-4f02-db30-b847543076b5"
      },
      "execution_count": null,
      "outputs": [
        {
          "output_type": "stream",
          "name": "stdout",
          "text": [
            "Accuracy: 93.18%\n",
            "\n",
            "Correct: 9318\n",
            "\n",
            "Total: 10000\n"
          ]
        }
      ]
    },
    {
      "cell_type": "code",
      "source": [
        "curr = {}\n",
        "distilled_net = student()\n",
        "distilled_net = distilled_net.to(device)\n",
        "distilled_net.load_state_dict(torch.load('distilled_A2.pth',map_location=torch.device('cuda')))\n",
        "test_model(distilled_net,curr)"
      ],
      "metadata": {
        "colab": {
          "base_uri": "https://localhost:8080/"
        },
        "id": "vWr6OM9c0mP_",
        "outputId": "cb9cbcfc-c906-430b-d8c0-b7ebd550b7f1"
      },
      "execution_count": null,
      "outputs": [
        {
          "output_type": "stream",
          "name": "stdout",
          "text": [
            "Accuracy: 89.81%\n",
            "\n",
            "Correct: 8981\n",
            "\n",
            "Total: 10000\n"
          ]
        }
      ]
    },
    {
      "cell_type": "code",
      "source": [
        "curr = {}\n",
        "distilled_net = student()\n",
        "distilled_net = distilled_net.to(device)\n",
        "distilled_net.load_state_dict(torch.load('distilled_A3.pth',map_location=torch.device('cuda')))\n",
        "test_model(distilled_net,curr)"
      ],
      "metadata": {
        "colab": {
          "base_uri": "https://localhost:8080/"
        },
        "id": "Ww9LQfNl3tZI",
        "outputId": "4b0c1a3a-8b76-4c12-d488-e8a9ca50a87a"
      },
      "execution_count": null,
      "outputs": [
        {
          "output_type": "stream",
          "name": "stdout",
          "text": [
            "Accuracy: 92.31%\n",
            "\n",
            "Correct: 9231\n",
            "\n",
            "Total: 10000\n"
          ]
        }
      ]
    },
    {
      "cell_type": "code",
      "source": [
        "curr = {}\n",
        "distilled_net = student()\n",
        "distilled_net = distilled_net.to(device)\n",
        "distilled_net.load_state_dict(torch.load('distilled_A4.pth',map_location=torch.device('cuda')))\n",
        "test_model(distilled_net,curr)"
      ],
      "metadata": {
        "colab": {
          "base_uri": "https://localhost:8080/"
        },
        "id": "K7vz7etU6MeN",
        "outputId": "982ef4e1-4795-4f3d-ddae-f0fee73a2f60"
      },
      "execution_count": null,
      "outputs": [
        {
          "output_type": "stream",
          "name": "stdout",
          "text": [
            "Accuracy: 91.16%\n",
            "\n",
            "Correct: 9116\n",
            "\n",
            "Total: 10000\n"
          ]
        }
      ]
    },
    {
      "cell_type": "code",
      "source": [
        "curr = {}\n",
        "distilled_net = student()\n",
        "distilled_net = distilled_net.to(device)\n",
        "distilled_net.load_state_dict(torch.load('distilled_A5.pth',map_location=torch.device('cuda')))\n",
        "test_model(distilled_net,curr)"
      ],
      "metadata": {
        "colab": {
          "base_uri": "https://localhost:8080/"
        },
        "id": "zgaRu-HL79Wa",
        "outputId": "01a57f74-f367-42d2-871f-9d93c833b5be"
      },
      "execution_count": null,
      "outputs": [
        {
          "output_type": "stream",
          "name": "stdout",
          "text": [
            "Accuracy: 91.44%\n",
            "\n",
            "Correct: 9144\n",
            "\n",
            "Total: 10000\n"
          ]
        }
      ]
    },
    {
      "cell_type": "code",
      "source": [
        "curr = {}\n",
        "distilled_net = student()\n",
        "distilled_net = distilled_net.to(device)\n",
        "distilled_net.load_state_dict(torch.load('distilled_A6.pth',map_location=torch.device('cuda')))\n",
        "test_model(distilled_net,curr)"
      ],
      "metadata": {
        "colab": {
          "base_uri": "https://localhost:8080/"
        },
        "id": "C5gQq85W9vAV",
        "outputId": "e0c2e4d6-de92-4ead-b492-f47b906aa875"
      },
      "execution_count": null,
      "outputs": [
        {
          "output_type": "stream",
          "name": "stdout",
          "text": [
            "Accuracy: 91.91%\n",
            "\n",
            "Correct: 9191\n",
            "\n",
            "Total: 10000\n"
          ]
        }
      ]
    },
    {
      "cell_type": "code",
      "source": [
        "curr = {}\n",
        "distilled_net = student()\n",
        "distilled_net = distilled_net.to(device)\n",
        "distilled_net.load_state_dict(torch.load('distilled_A7.pth',map_location=torch.device('cuda')))\n",
        "test_model(distilled_net,curr)"
      ],
      "metadata": {
        "colab": {
          "base_uri": "https://localhost:8080/"
        },
        "id": "_aOLzYS3_fEB",
        "outputId": "be879efe-545a-4282-a0ef-2cb06397fcd2"
      },
      "execution_count": null,
      "outputs": [
        {
          "output_type": "stream",
          "name": "stdout",
          "text": [
            "Accuracy: 91.68%\n",
            "\n",
            "Correct: 9168\n",
            "\n",
            "Total: 10000\n"
          ]
        }
      ]
    },
    {
      "cell_type": "code",
      "source": [
        "curr = {}\n",
        "distilled_net = student()\n",
        "distilled_net = distilled_net.to(device)\n",
        "distilled_net.load_state_dict(torch.load('distilled_A8.pth',map_location=torch.device('cuda')))\n",
        "test_model(distilled_net,curr)"
      ],
      "metadata": {
        "colab": {
          "base_uri": "https://localhost:8080/"
        },
        "id": "Lwj1ZfyyKRln",
        "outputId": "1e848fe4-ecb7-4f0a-d009-762d0175e0c0"
      },
      "execution_count": null,
      "outputs": [
        {
          "output_type": "stream",
          "name": "stdout",
          "text": [
            "Accuracy: 93.50%\n",
            "\n",
            "Correct: 9350\n",
            "\n",
            "Total: 10000\n"
          ]
        }
      ]
    },
    {
      "cell_type": "code",
      "source": [
        "curr = {}\n",
        "distilled_net = student()\n",
        "distilled_net = distilled_net.to(device)\n",
        "distilled_net.load_state_dict(torch.load('distilled_A9.pth',map_location=torch.device('cuda')))\n",
        "test_model(distilled_net,curr)"
      ],
      "metadata": {
        "colab": {
          "base_uri": "https://localhost:8080/"
        },
        "id": "9gdGBx7EMb4j",
        "outputId": "be7383f4-13f7-4d2a-849f-98c7b084e2fd"
      },
      "execution_count": null,
      "outputs": [
        {
          "output_type": "stream",
          "name": "stdout",
          "text": [
            "Accuracy: 91.56%\n",
            "\n",
            "Correct: 9156\n",
            "\n",
            "Total: 10000\n"
          ]
        }
      ]
    },
    {
      "cell_type": "code",
      "source": [
        "curr = {}\n",
        "distilled_net = student()\n",
        "distilled_net = distilled_net.to(device)\n",
        "distilled_net.load_state_dict(torch.load('distilled_A0.pth',map_location=torch.device('cuda')))\n",
        "test_model(distilled_net,curr)"
      ],
      "metadata": {
        "colab": {
          "base_uri": "https://localhost:8080/"
        },
        "id": "C40YiQ6FPxae",
        "outputId": "4cfa23dc-e54d-4105-e95f-a6e9adbbf9d7"
      },
      "execution_count": null,
      "outputs": [
        {
          "output_type": "stream",
          "name": "stdout",
          "text": [
            "Accuracy: 89.48%\n",
            "\n",
            "Correct: 8948\n",
            "\n",
            "Total: 10000\n"
          ]
        }
      ]
    },
    {
      "cell_type": "code",
      "source": [
        "## look at the data distribution in the test loader"
      ],
      "metadata": {
        "id": "LSF_XRkZSPu7"
      },
      "execution_count": null,
      "outputs": []
    },
    {
      "cell_type": "code",
      "source": [
        "cnt = {0:0,1:0,2:0,3:0,4:0,5:0,6:0,7:0,8:0,9:0}\n",
        "for _,targets in test_loader:\n",
        "  for target in targets:\n",
        "    cnt[int(target)] += 1\n"
      ],
      "metadata": {
        "id": "372pgAxrxLy-"
      },
      "execution_count": null,
      "outputs": []
    },
    {
      "cell_type": "code",
      "source": [
        "cnt"
      ],
      "metadata": {
        "colab": {
          "base_uri": "https://localhost:8080/"
        },
        "id": "80qCQbM1xwMj",
        "outputId": "e784691d-fcc8-4c4d-de32-66e3bb3b7d9c"
      },
      "execution_count": null,
      "outputs": [
        {
          "output_type": "execute_result",
          "data": {
            "text/plain": [
              "{0: 980,\n",
              " 1: 1135,\n",
              " 2: 1032,\n",
              " 3: 1010,\n",
              " 4: 982,\n",
              " 5: 892,\n",
              " 6: 958,\n",
              " 7: 1028,\n",
              " 8: 974,\n",
              " 9: 1009}"
            ]
          },
          "metadata": {},
          "execution_count": 86
        }
      ]
    },
    {
      "cell_type": "code",
      "source": [
        "plt.bar(cnt.keys(),cnt.values())\n",
        "plt.xlabel('Numbers in the test dataset')\n",
        "plt.ylabel('Class count')\n",
        "plt.title('Test set visualization')\n",
        "plt.show()"
      ],
      "metadata": {
        "colab": {
          "base_uri": "https://localhost:8080/",
          "height": 472
        },
        "id": "OqfDetYbyDsc",
        "outputId": "b0892834-f502-427e-8dc2-c04cdce6d85f"
      },
      "execution_count": null,
      "outputs": [
        {
          "output_type": "display_data",
          "data": {
            "text/plain": [
              "<Figure size 640x480 with 1 Axes>"
            ],
            "image/png": "[encoded data removed]"
          },
          "metadata": {}
        }
      ]
    },
    {
      "cell_type": "code",
      "source": [],
      "metadata": {
        "id": "eQCk2ZnFyRkM"
      },
      "execution_count": null,
      "outputs": []
    }
  ]
}