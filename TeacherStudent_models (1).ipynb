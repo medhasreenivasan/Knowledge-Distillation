{
  "cells": [
    {
      "cell_type": "code",
      "execution_count": null,
      "metadata": {
        "id": "Eh4XI4LFkTdf"
      },
      "outputs": [],
      "source": [
        "import torch\n",
        "import numpy as np\n",
        "import torch.nn as nn\n",
        "import torch.nn.functional as F\n",
        "import torch.optim as optim\n",
        "import torch\n",
        "from torchvision import datasets, transforms\n",
        "from torch.utils.data import DataLoader,random_split"
      ]
    },
    {
      "cell_type": "code",
      "execution_count": null,
      "metadata": {
        "colab": {
          "base_uri": "https://localhost:8080/"
        },
        "id": "5KDJFuBukqiQ",
        "outputId": "598666d1-96eb-4a3e-e6e0-3d5d6a21f3df"
      },
      "outputs": [
        {
          "output_type": "stream",
          "name": "stdout",
          "text": [
            "Mounted at /content/drive\n"
          ]
        }
      ],
      "source": [
        "from google.colab import drive\n",
        "drive.mount('/content/drive')"
      ]
    },
    {
      "cell_type": "code",
      "execution_count": null,
      "metadata": {
        "id": "VGKDDpSQB5hg",
        "colab": {
          "base_uri": "https://localhost:8080/"
        },
        "outputId": "42f3e921-2488-4877-88fa-53f1a598c848"
      },
      "outputs": [
        {
          "output_type": "stream",
          "name": "stdout",
          "text": [
            "\u001b[0m\u001b[01;34mdrive\u001b[0m/  \u001b[01;34msample_data\u001b[0m/\n"
          ]
        }
      ],
      "source": [
        "ls"
      ]
    },
    {
      "cell_type": "code",
      "execution_count": null,
      "metadata": {
        "colab": {
          "base_uri": "https://localhost:8080/"
        },
        "id": "TBaokJrLkw_W",
        "outputId": "7ef64993-7a12-4f0f-88a8-5d8ae95cc11e"
      },
      "outputs": [
        {
          "output_type": "stream",
          "name": "stdout",
          "text": [
            "/content/drive/MyDrive/DL/Final_Project\n"
          ]
        }
      ],
      "source": [
        "cd drive/MyDrive/DL/Final_Project/"
      ]
    },
    {
      "cell_type": "code",
      "execution_count": null,
      "metadata": {
        "id": "ewJAh4r3kmCX"
      },
      "outputs": [],
      "source": [
        "import matplotlib.pyplot as plt"
      ]
    },
    {
      "cell_type": "code",
      "execution_count": null,
      "metadata": {
        "colab": {
          "base_uri": "https://localhost:8080/"
        },
        "id": "iLQ5e7Men3HG",
        "outputId": "b73fe0b3-598f-459e-f87a-a70baf031ece"
      },
      "outputs": [
        {
          "output_type": "stream",
          "name": "stdout",
          "text": [
            "Device in use: cuda\n"
          ]
        }
      ],
      "source": [
        "device = 'cuda' if torch.cuda.is_available() else 'cpu'\n",
        "print('Device in use:',device)"
      ]
    },
    {
      "cell_type": "code",
      "execution_count": null,
      "metadata": {
        "id": "xWis-FxjknM_"
      },
      "outputs": [],
      "source": [
        "def get_mnist_dataloader(batch_size=64, shuffle=True,model='teacher'):\n",
        "    # Define the data transformation\n",
        "    if model == 'teacher':\n",
        "      transform_train = transforms.Compose([\n",
        "          transforms.ToTensor(),  # Convert images to PyTorch tensors\n",
        "          transforms.Normalize((0.5,), (0.5,)),  # Normalize the pixel values to the range [-1, 1]\n",
        "          transforms.RandomAffine(0,(0.2,0.2))\n",
        "      ])\n",
        "    else:\n",
        "      transform_train = transforms.Compose([\n",
        "          transforms.ToTensor(),  # Convert images to PyTorch tensors\n",
        "          transforms.Normalize((0.5,), (0.5,)),  # Normalize the pixel values to the range [-1, 1]\n",
        "      ])\n",
        "\n",
        "    transform_test = transforms.Compose([\n",
        "        transforms.ToTensor(),  # Convert images to PyTorch tensors\n",
        "        transforms.Normalize((0.5,), (0.5,)),  # Normalize the pixel values to the range [-1, 1]\n",
        "\n",
        "    ])\n",
        "\n",
        "    # Download MNIST dataset\n",
        "    mnist_train = datasets.MNIST(root='./data', train=True, download=True, transform=transform_train)\n",
        "    mnist_test = datasets.MNIST(root='./data', train=False, download=True, transform=transform_test)\n",
        "\n",
        "    # Create data loaders\n",
        "    train_loader = DataLoader(dataset=mnist_train, batch_size=batch_size, shuffle=shuffle)\n",
        "    test_loader = DataLoader(dataset=mnist_test, batch_size=batch_size, shuffle=False)\n",
        "\n",
        "    return train_loader, test_loader\n",
        "\n",
        "## get the training, validation and testing datasets\n",
        "teacher_train_loader, test_loader = get_mnist_dataloader(batch_size=64, shuffle=True,model='teacher')\n",
        "student_train_loader, test_loader = get_mnist_dataloader(batch_size=64, shuffle=True,model='student')"
      ]
    },
    {
      "cell_type": "code",
      "execution_count": null,
      "metadata": {
        "id": "2kEchKvZnJbT"
      },
      "outputs": [],
      "source": [
        "## general training function\n",
        "def train_model(model,optimizer,criterion,model_name,train_loader,epochs,t=1):\n",
        "  train_losses, train_accs = [],[]\n",
        "  teacher = {}\n",
        "  teacher['T'] = t\n",
        "  ## keep track of acc to save the best model\n",
        "  best_acc = 0\n",
        "\n",
        "  for epoch in range(epochs):\n",
        "    print(f\"----------------------------------EPOCH {epoch}--------------------------------------\")\n",
        "    train_loss = 0\n",
        "    total_examples = 0\n",
        "    correct_examples = 0\n",
        "    model.train()\n",
        "    ## model training\n",
        "    for inputs, targets in train_loader:\n",
        "      inputs = inputs.to(device)\n",
        "      targets = targets.to(device)\n",
        "      optimizer.zero_grad()\n",
        "      model_outputs = model(inputs)\n",
        "      output_predictions = torch.argmax(model_outputs, dim=1)\n",
        "      model_outputs /= t\n",
        "      model_loss = criterion(model_outputs, targets)\n",
        "      model_loss.backward()\n",
        "      optimizer.step()\n",
        "\n",
        "      train_loss += model_loss.item()\n",
        "      correct_examples += torch.sum((output_predictions==targets))\n",
        "      total_examples += targets.size(0)\n",
        "    ## compute the average training loss/acc for the epoch\n",
        "\n",
        "    avg_loss = train_loss / len(train_loader)\n",
        "    avg_acc = correct_examples / total_examples\n",
        "    train_losses.append(avg_loss)\n",
        "    train_accs.append(avg_acc)\n",
        "    print(\"\\n Training loss: %.4f, Training accuracy: %.4f\" %(avg_loss, avg_acc))\n",
        "\n",
        "    ## save the best model\n",
        "    if avg_acc > best_acc:\n",
        "      best_acc = avg_acc\n",
        "      torch.save(model.state_dict(), model_name)\n",
        "      print('Saving model....')\n",
        "\n",
        "  ## save the results\n",
        "  teacher['train loss'] = train_losses\n",
        "  teacher['train accs'] = train_accs\n",
        "  teacher['best acc'] = best_acc\n",
        "\n",
        "  ## plot the learning curve for training/validation\n",
        "  plt.plot(np.arange(1,epochs+1),np.array(train_losses),label='training curve')\n",
        "  plt.xlabel('Epochs')\n",
        "  plt.ylabel('Loss')\n",
        "  plt.legend()\n",
        "  plt.title('Training and Validation Curves')\n",
        "\n",
        "  return teacher\n"
      ]
    },
    {
      "cell_type": "code",
      "execution_count": null,
      "metadata": {
        "id": "q77s6kyhxGHf"
      },
      "outputs": [],
      "source": [
        "def test_model(test_model,teacher):\n",
        "  correct_examples = 0\n",
        "  total_examples = 0\n",
        "  test_model.eval()\n",
        "\n",
        "  with torch.no_grad():\n",
        "      for test_data, test_labels in test_loader:\n",
        "          # Assuming your_model is your trained neural network\n",
        "          test_data=test_data.to(device)\n",
        "          test_labels=test_labels.to(device)\n",
        "          output_predictions = test_model(test_data)\n",
        "\n",
        "          # Calculate accuracy\n",
        "          _, predicted = torch.max(output_predictions, 1)\n",
        "          correct_examples += (predicted == test_labels).sum().item()\n",
        "          total_examples += test_labels.size(0)\n",
        "\n",
        "  accuracy = correct_examples / total_examples\n",
        "  print(f\"Accuracy: {accuracy * 100:.2f}%\")\n",
        "  print(\"\\nCorrect:\",correct_examples)\n",
        "  print(\"\\nTotal:\",total_examples)\n",
        "  teacher['correct'] = correct_examples\n",
        "  teacher['test acc'] = accuracy"
      ]
    },
    {
      "cell_type": "markdown",
      "metadata": {
        "id": "SUND2QAOk0L1"
      },
      "source": [
        "## Visualiza some of the training data"
      ]
    },
    {
      "cell_type": "code",
      "execution_count": null,
      "metadata": {
        "colab": {
          "base_uri": "https://localhost:8080/",
          "height": 445
        },
        "id": "ZfoOrBuIko-f",
        "outputId": "9ac548a6-e11c-4393-d665-cf9cc7f8e3ce"
      },
      "outputs": [
        {
          "name": "stdout",
          "output_type": "stream",
          "text": [
            "Batch shape: torch.Size([64, 1, 28, 28])\n"
          ]
        },
        {
          "data": {
            "image/png": "[encoded data removed]",
            "text/plain": [
              "<Figure size 640x480 with 4 Axes>"
            ]
          },
          "metadata": {},
          "output_type": "display_data"
        }
      ],
      "source": [
        "\n",
        "for data, labels in test_loader:\n",
        "    print('Batch shape:',data.shape)\n",
        "    ## plot the images\n",
        "    for i in range(4):\n",
        "        plt.subplot(2, 2, i + 1)\n",
        "        plt.imshow(data[i].reshape(28, 28))\n",
        "        plt.title(f'Label: {labels[i].item()}')\n",
        "        plt.axis('off')\n",
        "    plt.show()\n",
        "    break"
      ]
    },
    {
      "cell_type": "markdown",
      "metadata": {
        "id": "VPFkxr-Ol8by"
      },
      "source": [
        "## Design the teacher model:\n",
        "1. Number of hidden layers = 2 of 1200 hidden units\n",
        "2. dropout = 50% for the hidden units and 20% for the input pixels\n",
        "3. learning rate = 0.001\n"
      ]
    },
    {
      "cell_type": "code",
      "execution_count": null,
      "metadata": {
        "id": "ihKZJo13mTZP"
      },
      "outputs": [],
      "source": [
        "## design the large network\n",
        "## not a conv network\n",
        "class parent(nn.Module):\n",
        "  def __init__(self):\n",
        "    super(parent, self).__init__()\n",
        "    self.linear1 = nn.Linear(28*28, 1200)\n",
        "    self.linear2 = nn.Linear(1200,1200)\n",
        "    self.linear3 = nn.Linear(1200, 10)\n",
        "    self.dropout_hidden = nn.Dropout(0.5)\n",
        "    self.dropout_visible = nn.Dropout(0.2)\n",
        "\n",
        "  def forward(self,x):\n",
        "    flatten = x.view(x.size(0),-1)\n",
        "    x = self.dropout_visible(flatten)\n",
        "    x = F.relu(self.linear1(x))\n",
        "    x = F.relu(self.linear2(x))\n",
        "    x = self.dropout_hidden(x)\n",
        "    x = self.linear3(x)\n",
        "    return x"
      ]
    },
    {
      "cell_type": "markdown",
      "source": [
        "### change optimizer to ADAM and run this"
      ],
      "metadata": {
        "id": "8rr_hAEzQUYL"
      }
    },
    {
      "cell_type": "code",
      "execution_count": null,
      "metadata": {
        "id": "20lz2oSrnGLJ"
      },
      "outputs": [],
      "source": [
        "# Training the Larger Network\n",
        "larger_net = parent()\n",
        "larger_net = larger_net.to(device)\n",
        "optimizer_large = optim.SGD(larger_net.parameters(), lr=0.01, momentum=0.9, weight_decay = 1e-5)\n",
        "criterion_large = nn.CrossEntropyLoss()"
      ]
    },
    {
      "cell_type": "code",
      "execution_count": null,
      "metadata": {
        "id": "cKwhQOE6uJJ4"
      },
      "outputs": [],
      "source": [
        "teacher_dict = train_model(larger_net,optimizer_large,criterion_large,'teacher.pth',teacher_train_loader,50,1)"
      ]
    },
    {
      "cell_type": "markdown",
      "metadata": {
        "id": "pDqJoi_x1z6p"
      },
      "source": [
        "## Test the accuracy for the teacher model"
      ]
    },
    {
      "cell_type": "code",
      "execution_count": null,
      "metadata": {
        "colab": {
          "base_uri": "https://localhost:8080/"
        },
        "id": "xuTeiWoquemT",
        "outputId": "e7bbb725-0699-411a-eee9-af468726fbe4"
      },
      "outputs": [
        {
          "output_type": "execute_result",
          "data": {
            "text/plain": [
              "<All keys matched successfully>"
            ]
          },
          "metadata": {},
          "execution_count": 15
        }
      ],
      "source": [
        "teacher_model = parent()\n",
        "teacher_model = teacher_model.to(device)\n",
        "optimizer_large = optim.SGD(teacher_model.parameters(), lr=0.01, momentum=0.9)\n",
        "criterion_large = nn.CrossEntropyLoss()\n",
        "teacher_model.load_state_dict(torch.load('teacher.pth',map_location=torch.device('cpu')))"
      ]
    },
    {
      "cell_type": "code",
      "execution_count": null,
      "metadata": {
        "colab": {
          "base_uri": "https://localhost:8080/"
        },
        "id": "gYnlXu1T5o_C",
        "outputId": "542238ec-91e4-474f-b3ef-9b8854758ba9"
      },
      "outputs": [
        {
          "output_type": "stream",
          "name": "stdout",
          "text": [
            "Accuracy: 98.13%\n",
            "\n",
            "Correct: 9813\n",
            "\n",
            "Total: 10000\n"
          ]
        }
      ],
      "source": [
        "teacher_dict = {}\n",
        "test_model(teacher_model,teacher_dict)"
      ]
    },
    {
      "cell_type": "markdown",
      "metadata": {
        "id": "zTZajEyp8ZUa"
      },
      "source": [
        "## Design the student model:\n",
        "1. Number of hidden layers = 2 of 800 hidden units\n",
        "2. no regularization\n",
        "3. learning rate = 0.01\n"
      ]
    },
    {
      "cell_type": "code",
      "execution_count": null,
      "metadata": {
        "id": "5nF7kimt7J0b"
      },
      "outputs": [],
      "source": [
        "## design the small network\n",
        "## not a conv network\n",
        "class student(nn.Module):\n",
        "  def __init__(self):\n",
        "    super(student, self).__init__()\n",
        "    self.linear1 = nn.Linear(28*28, 30)\n",
        "    self.linear2 = nn.Linear(30,30)\n",
        "    self.linear3 = nn.Linear(30, 10)\n",
        "\n",
        "  def forward(self,x):\n",
        "    flatten = x.view(x.size(0),-1)\n",
        "    x = F.relu(self.linear1(flatten))\n",
        "    x = F.relu(self.linear2(x))\n",
        "    x = self.linear3(x)\n",
        "    return x"
      ]
    },
    {
      "cell_type": "markdown",
      "source": [
        "## change optimizer and run"
      ],
      "metadata": {
        "id": "zpRZuP75Q-kG"
      }
    },
    {
      "cell_type": "code",
      "execution_count": null,
      "metadata": {
        "id": "PHS1T0pi-TCk"
      },
      "outputs": [],
      "source": [
        "# Training the smaller Network\n",
        "smaller_net = student()\n",
        "smaller_net = smaller_net.to(device)\n",
        "optimizer_small = optim.SGD(smaller_net.parameters(), lr=0.01, momentum=0.9)\n",
        "criterion_small = nn.CrossEntropyLoss()"
      ]
    },
    {
      "cell_type": "code",
      "execution_count": null,
      "metadata": {
        "colab": {
          "base_uri": "https://localhost:8080/",
          "height": 1000
        },
        "id": "ur9Hcj_k-jeC",
        "outputId": "01073df7-e99e-43cd-c943-094d58f18348"
      },
      "outputs": [
        {
          "name": "stdout",
          "output_type": "stream",
          "text": [
            "----------------------------------EPOCH 0--------------------------------------\n",
            "\n",
            " Training loss: 0.4869, Training accuracy: 0.8468\n",
            "Saving model....\n",
            "----------------------------------EPOCH 1--------------------------------------\n",
            "\n",
            " Training loss: 0.2351, Training accuracy: 0.9285\n",
            "Saving model....\n",
            "----------------------------------EPOCH 2--------------------------------------\n",
            "\n",
            " Training loss: 0.1864, Training accuracy: 0.9434\n",
            "Saving model....\n",
            "----------------------------------EPOCH 3--------------------------------------\n",
            "\n",
            " Training loss: 0.1621, Training accuracy: 0.9500\n",
            "Saving model....\n",
            "----------------------------------EPOCH 4--------------------------------------\n",
            "\n",
            " Training loss: 0.1469, Training accuracy: 0.9557\n",
            "Saving model....\n",
            "----------------------------------EPOCH 5--------------------------------------\n",
            "\n",
            " Training loss: 0.1370, Training accuracy: 0.9568\n",
            "Saving model....\n",
            "----------------------------------EPOCH 6--------------------------------------\n",
            "\n",
            " Training loss: 0.1291, Training accuracy: 0.9600\n",
            "Saving model....\n",
            "----------------------------------EPOCH 7--------------------------------------\n",
            "\n",
            " Training loss: 0.1197, Training accuracy: 0.9621\n",
            "Saving model....\n",
            "----------------------------------EPOCH 8--------------------------------------\n",
            "\n",
            " Training loss: 0.1167, Training accuracy: 0.9639\n",
            "Saving model....\n",
            "----------------------------------EPOCH 9--------------------------------------\n",
            "\n",
            " Training loss: 0.1102, Training accuracy: 0.9653\n",
            "Saving model....\n",
            "----------------------------------EPOCH 10--------------------------------------\n",
            "\n",
            " Training loss: 0.1054, Training accuracy: 0.9672\n",
            "Saving model....\n",
            "----------------------------------EPOCH 11--------------------------------------\n",
            "\n",
            " Training loss: 0.1016, Training accuracy: 0.9676\n",
            "Saving model....\n",
            "----------------------------------EPOCH 12--------------------------------------\n",
            "\n",
            " Training loss: 0.1001, Training accuracy: 0.9683\n",
            "Saving model....\n",
            "----------------------------------EPOCH 13--------------------------------------\n",
            "\n",
            " Training loss: 0.0951, Training accuracy: 0.9696\n",
            "Saving model....\n",
            "----------------------------------EPOCH 14--------------------------------------\n",
            "\n",
            " Training loss: 0.0951, Training accuracy: 0.9693\n",
            "----------------------------------EPOCH 15--------------------------------------\n",
            "\n",
            " Training loss: 0.0907, Training accuracy: 0.9708\n",
            "Saving model....\n",
            "----------------------------------EPOCH 16--------------------------------------\n",
            "\n",
            " Training loss: 0.0851, Training accuracy: 0.9728\n",
            "Saving model....\n",
            "----------------------------------EPOCH 17--------------------------------------\n",
            "\n",
            " Training loss: 0.0836, Training accuracy: 0.9738\n",
            "Saving model....\n",
            "----------------------------------EPOCH 18--------------------------------------\n",
            "\n",
            " Training loss: 0.0825, Training accuracy: 0.9741\n",
            "Saving model....\n",
            "----------------------------------EPOCH 19--------------------------------------\n",
            "\n",
            " Training loss: 0.0812, Training accuracy: 0.9742\n",
            "Saving model....\n",
            "----------------------------------EPOCH 20--------------------------------------\n",
            "\n",
            " Training loss: 0.0783, Training accuracy: 0.9748\n",
            "Saving model....\n",
            "----------------------------------EPOCH 21--------------------------------------\n",
            "\n",
            " Training loss: 0.0768, Training accuracy: 0.9745\n",
            "----------------------------------EPOCH 22--------------------------------------\n",
            "\n",
            " Training loss: 0.0758, Training accuracy: 0.9748\n",
            "----------------------------------EPOCH 23--------------------------------------\n",
            "\n",
            " Training loss: 0.0722, Training accuracy: 0.9766\n",
            "Saving model....\n",
            "----------------------------------EPOCH 24--------------------------------------\n",
            "\n",
            " Training loss: 0.0691, Training accuracy: 0.9778\n",
            "Saving model....\n"
          ]
        },
        {
          "data": {
            "image/png": "[encoded data removed]",
            "text/plain": [
              "<Figure size 640x480 with 1 Axes>"
            ]
          },
          "metadata": {},
          "output_type": "display_data"
        }
      ],
      "source": [
        "train_model(smaller_net,optimizer_small,criterion_small,'student30.pth',student_train_loader)"
      ]
    },
    {
      "cell_type": "code",
      "execution_count": null,
      "metadata": {
        "colab": {
          "base_uri": "https://localhost:8080/"
        },
        "id": "g8qsvLR5F9An",
        "outputId": "ae115f50-8e8b-4827-a0b2-8f188d0aea0b"
      },
      "outputs": [
        {
          "data": {
            "text/plain": [
              "<All keys matched successfully>"
            ]
          },
          "execution_count": 26,
          "metadata": {},
          "output_type": "execute_result"
        }
      ],
      "source": [
        "student_model = student()\n",
        "student_model = student_model.to(device)\n",
        "student_model.load_state_dict(torch.load('student30.pth'))"
      ]
    },
    {
      "cell_type": "code",
      "execution_count": null,
      "metadata": {
        "id": "smvuZ6G6FEhS"
      },
      "outputs": [],
      "source": []
    },
    {
      "cell_type": "code",
      "execution_count": null,
      "metadata": {
        "colab": {
          "base_uri": "https://localhost:8080/"
        },
        "id": "33hLPDtkCV8X",
        "outputId": "751624bc-05d0-4c5a-e08c-77f3f036d417"
      },
      "outputs": [
        {
          "name": "stdout",
          "output_type": "stream",
          "text": [
            "Accuracy: 96.37%\n",
            "\n",
            "Correct: 9637\n",
            "\n",
            "Total: 10000\n"
          ]
        }
      ],
      "source": [
        "test_model(student_model)"
      ]
    },
    {
      "cell_type": "code",
      "execution_count": null,
      "metadata": {
        "id": "RhU-aZ47GOoX"
      },
      "outputs": [],
      "source": []
    },
    {
      "cell_type": "markdown",
      "metadata": {
        "id": "flIykcSw7YN_"
      },
      "source": [
        "## DISTILLATION WITH KD LOSS"
      ]
    },
    {
      "cell_type": "code",
      "execution_count": null,
      "metadata": {
        "id": "8MepnQPN7bKb"
      },
      "outputs": [],
      "source": [
        "# Training the smaller Network\n",
        "distilled_net = student()\n",
        "distilled_net = distilled_net.to(device)\n",
        "optimizer = optim.SGD(distilled_net.parameters(), lr=0.01, momentum=0.9)\n",
        "criterion = nn.CrossEntropyLoss()"
      ]
    },
    {
      "cell_type": "code",
      "execution_count": null,
      "metadata": {
        "id": "DSKxAr-U75In"
      },
      "outputs": [],
      "source": [
        "T = 1\n",
        "alpha = 0.5"
      ]
    },
    {
      "cell_type": "code",
      "execution_count": null,
      "metadata": {
        "id": "O8f5aFHR7Z3F"
      },
      "outputs": [],
      "source": [
        "best_acc = 0\n",
        "for epoch in range(0,25):\n",
        "  print(f'Epoch{epoch}')\n",
        "  train_loss = 0\n",
        "  correct_examples = 0\n",
        "  total_examples = 0\n",
        "  for inputs, targets in student_train_loader:\n",
        "      inputs = inputs.to(device)\n",
        "      targets = targets.to(device)\n",
        "      optimizer.zero_grad()\n",
        "\n",
        "      student_targets = distilled_net(inputs)  ## student softmax values\n",
        "      teacher_targets = teacher_model(inputs) ## teacher softmax values\n",
        "      print(student_targets)\n",
        "\n",
        "      loss = F.kl_div(F.log_softmax(student_targets / T, dim=1), F.softmax(teacher_targets / T, dim=1), reduction='batchmean') * (T ** 2) * alpha + criterion(student_targets, targets) * (1 - alpha)\n",
        "      output_predictions = torch.argmax(student_targets, dim=1)\n",
        "      loss.backward()\n",
        "      optimizer.step()\n",
        "      train_loss += loss.item()\n",
        "      correct_examples += torch.sum((output_predictions==targets))\n",
        "      total_examples += targets.numel()\n",
        "  avg_loss = train_loss / len(student_train_loader)\n",
        "  avg_acc = correct_examples / total_examples\n",
        "\n",
        "  ## save the best model\n",
        "  if avg_acc > best_acc:\n",
        "    best_acc = avg_acc\n",
        "    torch.save(distilled_net.state_dict(), 'distilled0.pth')\n",
        "    print('Saving model....')\n",
        "  print(\"Training loss: %.4f, Training accuracy: %.4f\" %(avg_loss, avg_acc))"
      ]
    },
    {
      "cell_type": "code",
      "execution_count": null,
      "metadata": {
        "colab": {
          "base_uri": "https://localhost:8080/"
        },
        "id": "RHq38M8v8JxJ",
        "outputId": "f97d383c-d7a8-4bad-913e-5c41c97fab1f"
      },
      "outputs": [
        {
          "data": {
            "text/plain": [
              "<All keys matched successfully>"
            ]
          },
          "execution_count": 94,
          "metadata": {},
          "output_type": "execute_result"
        }
      ],
      "source": [
        "distilled_net = student()\n",
        "distilled_net = distilled_net.to(device)\n",
        "distilled_net.load_state_dict(torch.load('distilled0.pth'))"
      ]
    },
    {
      "cell_type": "code",
      "execution_count": null,
      "metadata": {
        "colab": {
          "base_uri": "https://localhost:8080/"
        },
        "id": "yhPrsOeKCaXk",
        "outputId": "10178629-c264-40ba-f8c6-1dfacbf95a42"
      },
      "outputs": [
        {
          "name": "stdout",
          "output_type": "stream",
          "text": [
            "Accuracy: 96.59%\n",
            "\n",
            "Correct: 9659\n",
            "\n",
            "Total: 10000\n"
          ]
        }
      ],
      "source": [
        "test_model(distilled_net)\n"
      ]
    },
    {
      "cell_type": "code",
      "execution_count": null,
      "metadata": {
        "id": "ekL1gUD4Gza8"
      },
      "outputs": [],
      "source": []
    },
    {
      "cell_type": "markdown",
      "metadata": {
        "id": "kJwLV3ktTAli"
      },
      "source": [
        "## DISTILLATION WITH CE LOSS"
      ]
    },
    {
      "cell_type": "code",
      "execution_count": null,
      "metadata": {
        "id": "vBvLPewATDoT"
      },
      "outputs": [],
      "source": [
        "# Training the smaller Network\n",
        "distilled_net = student()\n",
        "distilled_net = distilled_net.to(device)\n",
        "optimizer = optim.SGD(distilled_net.parameters(), lr=0.01, momentum=0.9)\n",
        "criterion = nn.CrossEntropyLoss()"
      ]
    },
    {
      "cell_type": "code",
      "execution_count": null,
      "metadata": {
        "id": "ijAulZ1ZUj6n"
      },
      "outputs": [],
      "source": [
        "alpha = 0.5\n",
        "T = 3"
      ]
    },
    {
      "cell_type": "code",
      "execution_count": null,
      "metadata": {
        "colab": {
          "base_uri": "https://localhost:8080/"
        },
        "id": "6qXlDYgHTC1-",
        "outputId": "4d9f8f6e-ab70-415b-e4c4-3ede8293ac6b"
      },
      "outputs": [
        {
          "output_type": "stream",
          "name": "stdout",
          "text": [
            "Epoch0\n",
            "Saving model....\n",
            "Training loss: 4.7524, Training accuracy: 0.8751\n",
            "Epoch1\n",
            "Saving model....\n",
            "Training loss: 3.9774, Training accuracy: 0.9403\n",
            "Epoch2\n",
            "Saving model....\n",
            "Training loss: 3.8921, Training accuracy: 0.9504\n",
            "Epoch3\n",
            "Saving model....\n",
            "Training loss: 3.8241, Training accuracy: 0.9560\n",
            "Epoch4\n",
            "Saving model....\n",
            "Training loss: 3.8023, Training accuracy: 0.9580\n",
            "Epoch5\n",
            "Saving model....\n",
            "Training loss: 3.7817, Training accuracy: 0.9606\n",
            "Epoch6\n",
            "Saving model....\n",
            "Training loss: 3.7596, Training accuracy: 0.9621\n",
            "Epoch7\n",
            "Saving model....\n",
            "Training loss: 3.7477, Training accuracy: 0.9640\n",
            "Epoch8\n",
            "Training loss: 3.7562, Training accuracy: 0.9632\n",
            "Epoch9\n",
            "Saving model....\n",
            "Training loss: 3.7258, Training accuracy: 0.9662\n",
            "Epoch10\n",
            "Saving model....\n",
            "Training loss: 3.7262, Training accuracy: 0.9667\n",
            "Epoch11\n",
            "Saving model....\n",
            "Training loss: 3.7167, Training accuracy: 0.9682\n",
            "Epoch12\n",
            "Training loss: 3.7165, Training accuracy: 0.9676\n",
            "Epoch13\n",
            "Saving model....\n",
            "Training loss: 3.7052, Training accuracy: 0.9686\n",
            "Epoch14\n",
            "Saving model....\n",
            "Training loss: 3.7041, Training accuracy: 0.9695\n",
            "Epoch15\n",
            "Training loss: 3.6968, Training accuracy: 0.9694\n",
            "Epoch16\n",
            "Training loss: 3.6941, Training accuracy: 0.9692\n",
            "Epoch17\n",
            "Saving model....\n",
            "Training loss: 3.6955, Training accuracy: 0.9704\n",
            "Epoch18\n",
            "Training loss: 3.6931, Training accuracy: 0.9697\n",
            "Epoch19\n",
            "Training loss: 3.6837, Training accuracy: 0.9703\n",
            "Epoch20\n",
            "Saving model....\n",
            "Training loss: 3.6842, Training accuracy: 0.9713\n",
            "Epoch21\n",
            "Saving model....\n",
            "Training loss: 3.6746, Training accuracy: 0.9720\n",
            "Epoch22\n",
            "Saving model....\n",
            "Training loss: 3.6837, Training accuracy: 0.9722\n",
            "Epoch23\n",
            "Saving model....\n",
            "Training loss: 3.6737, Training accuracy: 0.9724\n",
            "Epoch24\n",
            "Training loss: 3.6808, Training accuracy: 0.9719\n"
          ]
        }
      ],
      "source": [
        "best_acc = 0\n",
        "for epoch in range(0,25):\n",
        "  print(f'Epoch{epoch}')\n",
        "  train_loss = 0\n",
        "  correct_examples = 0\n",
        "  total_examples = 0\n",
        "  for inputs, targets in student_train_loader:\n",
        "      inputs = inputs.to(device)\n",
        "      targets = targets.to(device)\n",
        "      optimizer.zero_grad()\n",
        "\n",
        "      student_targets = distilled_net(inputs)  ## student softmax values\n",
        "      #student_targets += 1e-5 ## to avoid stopping the trianing\n",
        "      #student_targets /= T   ## the input to softmax function becomes z/T - adding the temperature\n",
        "      teacher_targets = teacher_model(inputs) ## teacher softmax values\n",
        "      teacher_predictions = torch.argmax(teacher_targets,dim=1)\n",
        "      #loss = alpha*(criterion(student_targets,teacher_predictions)) + (1-alpha)*(criterion(student_targets,targets))\n",
        "      loss = alpha*F.cross_entropy(student_targets/T, F.softmax(teacher_targets/T,dim=1))*(T**2) + F.cross_entropy(student_targets, targets)\n",
        "\n",
        "      output_predictions = torch.argmax(student_targets, dim=1)\n",
        "      loss.backward()\n",
        "      optimizer.step()\n",
        "      train_loss += loss.item()\n",
        "      correct_examples += torch.sum((output_predictions==targets))\n",
        "      total_examples += targets.numel()\n",
        "  avg_loss = train_loss / len(student_train_loader)\n",
        "  avg_acc = correct_examples / total_examples\n",
        "\n",
        "  ## save the best model\n",
        "  if avg_acc > best_acc:\n",
        "    best_acc = avg_acc\n",
        "    torch.save(distilled_net.state_dict(), 'distilled50_t10_ce.pth')\n",
        "    print('Saving model....')\n",
        "  print(\"Training loss: %.4f, Training accuracy: %.4f\" %(avg_loss, avg_acc))"
      ]
    },
    {
      "cell_type": "code",
      "source": [
        "curr = {}"
      ],
      "metadata": {
        "id": "dBscX862xHlv"
      },
      "execution_count": null,
      "outputs": []
    },
    {
      "cell_type": "code",
      "execution_count": null,
      "metadata": {
        "colab": {
          "base_uri": "https://localhost:8080/"
        },
        "id": "mUcfE3QdUiQH",
        "outputId": "637298a4-04a6-449c-848d-b314b856a86a"
      },
      "outputs": [
        {
          "output_type": "stream",
          "name": "stdout",
          "text": [
            "Accuracy: 96.60%\n",
            "\n",
            "Correct: 9660\n",
            "\n",
            "Total: 10000\n"
          ]
        }
      ],
      "source": [
        "distilled_net = student()\n",
        "distilled_net = distilled_net.to(device)\n",
        "distilled_net.load_state_dict(torch.load('distilled50_t10_ce.pth', map_location='cpu'))\n",
        "test_model(distilled_net,curr)"
      ]
    },
    {
      "cell_type": "code",
      "execution_count": null,
      "metadata": {
        "colab": {
          "base_uri": "https://localhost:8080/"
        },
        "id": "Y_dbbkyZWgf1",
        "outputId": "30cfe0e5-5e07-486a-fc1f-0e35dc6a5a5e"
      },
      "outputs": [
        {
          "name": "stdout",
          "output_type": "stream",
          "text": [
            "Accuracy: 96.50%\n",
            "\n",
            "Correct: 9650\n",
            "\n",
            "Total: 10000\n"
          ]
        }
      ],
      "source": [
        "test_model(distilled_net)"
      ]
    },
    {
      "cell_type": "markdown",
      "source": [
        "perform distillation here with the new teacher and include the same optimizations here"
      ],
      "metadata": {
        "id": "xoUqldxIRHZ-"
      }
    },
    {
      "cell_type": "code",
      "execution_count": null,
      "metadata": {
        "id": "VSInNrHe5r7p"
      },
      "outputs": [],
      "source": [
        "from tqdm import tqdm"
      ]
    },
    {
      "cell_type": "code",
      "execution_count": null,
      "metadata": {
        "id": "l47dA2YwWkpD"
      },
      "outputs": [],
      "source": [
        "t = 5\n",
        "alpha = [1,0.75,0.5,0.25]\n",
        "epochs = 25\n",
        "grid_results = []"
      ]
    },
    {
      "cell_type": "code",
      "execution_count": null,
      "metadata": {
        "colab": {
          "base_uri": "https://localhost:8080/"
        },
        "id": "MDe39oze3fAm",
        "outputId": "2b451950-86a8-42c6-8514-6585c5cbfb14"
      },
      "outputs": [
        {
          "output_type": "stream",
          "name": "stderr",
          "text": [
            "100%|██████████| 4/4 [29:41<00:00, 445.33s/it]\n"
          ]
        }
      ],
      "source": [
        "for a in tqdm(alpha):\n",
        "  current_grid = {}\n",
        "  current_grid['alpha'] = a\n",
        "  current_grid['T'] = t\n",
        "  model_name = 'distilled_A'+str(a)+ '_T' + str(t) + '.pth'\n",
        "\n",
        "  ## instantiate a new student model for distillation\n",
        "  distilled_net = student()\n",
        "  distilled_net = distilled_net.to(device)\n",
        "  optimizer = optim.SGD(distilled_net.parameters(), lr=0.01, momentum=0.9)\n",
        "  criterion = nn.CrossEntropyLoss()\n",
        "\n",
        "  ## start the training process\n",
        "  best_val_acc = 0\n",
        "  train_losses = []\n",
        "  val_accs = []\n",
        "  train_accs = []\n",
        "  for epoch in range(0,epochs):\n",
        "    train_loss = 0\n",
        "    correct_examples = 0\n",
        "    total_examples = 0\n",
        "    distilled_net.train()\n",
        "    for inputs, targets in student_train_loader:\n",
        "        inputs = inputs.to(device)\n",
        "        targets = targets.to(device)\n",
        "        optimizer.zero_grad()\n",
        "\n",
        "        student_targets = distilled_net(inputs)  ## student softmax values\n",
        "        #student_targets /= t   ## the input to softmax function becomes z/T - adding the temperature\n",
        "        teacher_targets = teacher_model(inputs) ## teacher softmax values\n",
        "        #teacher_predictions = torch.argmax(teacher_targets,dim=1)\n",
        "        loss = a*F.cross_entropy(student_targets/t, F.softmax(teacher_targets/t,dim=1))*(t**2) + F.cross_entropy(student_targets, targets)*(1-a)\n",
        "\n",
        "        output_predictions = torch.argmax(student_targets, dim=1)\n",
        "        loss.backward()\n",
        "        optimizer.step()\n",
        "        train_loss += loss.item()\n",
        "        correct_examples += torch.sum((output_predictions==targets))\n",
        "        total_examples += targets.numel()\n",
        "\n",
        "    avg_loss = train_loss / len(student_train_loader)\n",
        "    avg_acc = correct_examples / total_examples\n",
        "    train_losses.append(avg_loss)\n",
        "    train_accs.append(avg_acc)\n",
        "\n",
        "    distilled_net.eval()\n",
        "    with torch.no_grad():\n",
        "      for test_data, test_labels in test_loader:\n",
        "          # Assuming your_model is your trained neural network\n",
        "          test_data=test_data.to(device)\n",
        "          test_labels=test_labels.to(device)\n",
        "          output_predictions = distilled_net(test_data)\n",
        "\n",
        "          # Calculate accuracy\n",
        "          _, predicted = torch.max(output_predictions, 1)\n",
        "          correct_examples += (predicted == test_labels).sum().item()\n",
        "          total_examples += test_labels.size(0)\n",
        "\n",
        "    #avg_loss = train_loss / len(student_train_loader)\n",
        "    avg_acc = correct_examples / total_examples\n",
        "    val_accs.append(avg_acc)\n",
        "    ## save the best model\n",
        "    if avg_acc > best_val_acc:\n",
        "      best_val_acc = avg_acc\n",
        "      torch.save(distilled_net.state_dict(), model_name)\n",
        "    #print(\"Training loss: %.4f, Training accuracy: %.4f\" %(avg_loss, avg_acc))\n",
        "\n",
        "  ## save the results\n",
        "  current_grid['best accuracy'] = best_val_acc\n",
        "  current_grid['train loss'] = train_losses\n",
        "  current_grid['train accs'] = train_accs\n",
        "\n",
        "  grid_results.append(current_grid)\n",
        "\n",
        "\n"
      ]
    },
    {
      "cell_type": "code",
      "execution_count": null,
      "metadata": {
        "id": "4_GmWPNTjYCE"
      },
      "outputs": [],
      "source": [
        "file = open('t4_results.txt','w')\n",
        "for result in grid_results:\n",
        "\tfile.write(str(result)+\"\\n\")\n",
        "file.close()\n"
      ]
    },
    {
      "cell_type": "markdown",
      "source": [
        "## testing models"
      ],
      "metadata": {
        "id": "t5c56psmoU1v"
      }
    },
    {
      "cell_type": "code",
      "execution_count": null,
      "metadata": {
        "id": "IBLJUr2fymOS",
        "colab": {
          "base_uri": "https://localhost:8080/"
        },
        "outputId": "fc9c5ebc-9b22-4fab-b1f4-f32f6b6abaf3"
      },
      "outputs": [
        {
          "output_type": "stream",
          "name": "stdout",
          "text": [
            "Accuracy: 95.88%\n",
            "\n",
            "Correct: 9588\n",
            "\n",
            "Total: 10000\n"
          ]
        }
      ],
      "source": [
        "curr = {}\n",
        "distilled_net = student()\n",
        "distilled_net = distilled_net.to(device)\n",
        "distilled_net.load_state_dict(torch.load('distilled_A1_T5.pth',map_location=torch.device('cuda')))\n",
        "test_model(distilled_net,curr)"
      ]
    },
    {
      "cell_type": "code",
      "source": [
        "curr = {}\n",
        "distilled_net = student()\n",
        "distilled_net = distilled_net.to(device)\n",
        "distilled_net.load_state_dict(torch.load('distilled_A0.25_T5.pth',map_location=torch.device('cuda')))\n",
        "test_model(distilled_net,curr)"
      ],
      "metadata": {
        "colab": {
          "base_uri": "https://localhost:8080/"
        },
        "id": "_950-YLjCDoA",
        "outputId": "16dee0c8-b673-4c6e-e881-f88c6069c820"
      },
      "execution_count": null,
      "outputs": [
        {
          "output_type": "stream",
          "name": "stdout",
          "text": [
            "Accuracy: 96.98%\n",
            "\n",
            "Correct: 9698\n",
            "\n",
            "Total: 10000\n"
          ]
        }
      ]
    },
    {
      "cell_type": "code",
      "source": [
        "curr = {}\n",
        "distilled_net = student()\n",
        "distilled_net = distilled_net.to(device)\n",
        "distilled_net.load_state_dict(torch.load('distilled_A0.75_T5.pth',map_location=torch.device('cuda')))\n",
        "test_model(distilled_net,curr)"
      ],
      "metadata": {
        "colab": {
          "base_uri": "https://localhost:8080/"
        },
        "id": "4P9GiaF-Clyz",
        "outputId": "f8dd4f63-0af6-43cc-9498-702ca35c2606"
      },
      "execution_count": null,
      "outputs": [
        {
          "output_type": "stream",
          "name": "stdout",
          "text": [
            "Accuracy: 96.15%\n",
            "\n",
            "Correct: 9615\n",
            "\n",
            "Total: 10000\n"
          ]
        }
      ]
    },
    {
      "cell_type": "code",
      "source": [
        "curr = {}\n",
        "distilled_net = student()\n",
        "distilled_net = distilled_net.to(device)\n",
        "distilled_net.load_state_dict(torch.load('distilled_A0.5_T5.pth',map_location=torch.device('cuda')))\n",
        "test_model(distilled_net,curr)"
      ],
      "metadata": {
        "colab": {
          "base_uri": "https://localhost:8080/"
        },
        "id": "BTgChjl2Co96",
        "outputId": "39d46641-cc5d-41e9-b92b-735fa1cb9ec5"
      },
      "execution_count": null,
      "outputs": [
        {
          "output_type": "stream",
          "name": "stdout",
          "text": [
            "Accuracy: 96.94%\n",
            "\n",
            "Correct: 9694\n",
            "\n",
            "Total: 10000\n"
          ]
        }
      ]
    },
    {
      "cell_type": "markdown",
      "source": [
        "previous results"
      ],
      "metadata": {
        "id": "LMwkjgdtCCJC"
      }
    },
    {
      "cell_type": "code",
      "source": [
        "distilled_net = student()\n",
        "distilled_net.load_state_dict(torch.load('distilled_A1_T25.pth',map_location=torch.device('cpu')))\n",
        "test_model(distilled_net,curr)"
      ],
      "metadata": {
        "colab": {
          "base_uri": "https://localhost:8080/"
        },
        "id": "8L4sEcLDq7XU",
        "outputId": "73d7a0ff-5217-4378-d2b7-4f4f70b12919"
      },
      "execution_count": null,
      "outputs": [
        {
          "output_type": "stream",
          "name": "stdout",
          "text": [
            "Accuracy: 96.00%\n",
            "\n",
            "Correct: 9600\n",
            "\n",
            "Total: 10000\n"
          ]
        }
      ]
    },
    {
      "cell_type": "code",
      "source": [
        "distilled_net = student()\n",
        "distilled_net.load_state_dict(torch.load('distilled_A1_T2.pth',map_location=torch.device('cpu')))\n",
        "test_model(distilled_net,curr)"
      ],
      "metadata": {
        "colab": {
          "base_uri": "https://localhost:8080/"
        },
        "id": "0EcJwkEEq_3Q",
        "outputId": "db163552-d141-4ded-b040-1bd061cb2823"
      },
      "execution_count": null,
      "outputs": [
        {
          "output_type": "stream",
          "name": "stdout",
          "text": [
            "Accuracy: 96.32%\n",
            "\n",
            "Correct: 9632\n",
            "\n",
            "Total: 10000\n"
          ]
        }
      ]
    },
    {
      "cell_type": "code",
      "source": [
        "distilled_net = student()\n",
        "distilled_net.load_state_dict(torch.load('distilled_A1_T1.pth',map_location=torch.device('cpu')))\n",
        "test_model(distilled_net,curr)"
      ],
      "metadata": {
        "colab": {
          "base_uri": "https://localhost:8080/"
        },
        "id": "0jPfouItrsQK",
        "outputId": "1612cda7-f5e8-4203-aa77-514b1203cb72"
      },
      "execution_count": null,
      "outputs": [
        {
          "output_type": "stream",
          "name": "stdout",
          "text": [
            "Accuracy: 96.30%\n",
            "\n",
            "Correct: 9630\n",
            "\n",
            "Total: 10000\n"
          ]
        }
      ]
    },
    {
      "cell_type": "code",
      "source": [
        "distilled_net = student()\n",
        "distilled_net.load_state_dict(torch.load('distilled_A0_T1.pth',map_location=torch.device('cpu')))\n",
        "test_model(distilled_net,curr)"
      ],
      "metadata": {
        "colab": {
          "base_uri": "https://localhost:8080/"
        },
        "id": "6Mi7Uxdrr1lB",
        "outputId": "0f440e84-759c-4458-8315-ac6d07827473"
      },
      "execution_count": null,
      "outputs": [
        {
          "output_type": "stream",
          "name": "stdout",
          "text": [
            "Accuracy: 95.10%\n",
            "\n",
            "Correct: 9510\n",
            "\n",
            "Total: 10000\n"
          ]
        }
      ]
    },
    {
      "cell_type": "code",
      "source": [
        "distilled_net = student()\n",
        "distilled_net.load_state_dict(torch.load('distilled_A0_T2.pth',map_location=torch.device('cpu')))\n",
        "test_model(distilled_net,curr)"
      ],
      "metadata": {
        "colab": {
          "base_uri": "https://localhost:8080/"
        },
        "id": "S245Q_nqsFcx",
        "outputId": "dbe06b1a-dadf-4b4e-9bdf-0b76c02eaf15"
      },
      "execution_count": null,
      "outputs": [
        {
          "output_type": "stream",
          "name": "stdout",
          "text": [
            "Accuracy: 96.65%\n",
            "\n",
            "Correct: 9665\n",
            "\n",
            "Total: 10000\n"
          ]
        }
      ]
    },
    {
      "cell_type": "code",
      "source": [
        "distilled_net = student()\n",
        "distilled_net.load_state_dict(torch.load('distilled_A0_T25.pth',map_location=torch.device('cpu')))\n",
        "test_model(distilled_net,curr)"
      ],
      "metadata": {
        "colab": {
          "base_uri": "https://localhost:8080/"
        },
        "id": "bLUq00QDsJdd",
        "outputId": "5dd7b0d1-15a9-4f0f-b710-7d0de136b697"
      },
      "execution_count": null,
      "outputs": [
        {
          "output_type": "stream",
          "name": "stdout",
          "text": [
            "Accuracy: 96.98%\n",
            "\n",
            "Correct: 9698\n",
            "\n",
            "Total: 10000\n"
          ]
        }
      ]
    },
    {
      "cell_type": "code",
      "source": [
        "distilled_net = student()\n",
        "distilled_net.load_state_dict(torch.load('distilled_A0_T3.pth',map_location=torch.device('cpu')))\n",
        "test_model(distilled_net,curr)"
      ],
      "metadata": {
        "colab": {
          "base_uri": "https://localhost:8080/"
        },
        "id": "Y93iE9_1sN8y",
        "outputId": "cddba951-1c02-4302-b8e2-1de036a99f97"
      },
      "execution_count": null,
      "outputs": [
        {
          "output_type": "stream",
          "name": "stdout",
          "text": [
            "Accuracy: 96.93%\n",
            "\n",
            "Correct: 9693\n",
            "\n",
            "Total: 10000\n"
          ]
        }
      ]
    },
    {
      "cell_type": "code",
      "source": [
        "distilled_net = student()\n",
        "distilled_net.load_state_dict(torch.load('distilled_A0_T35.pth',map_location=torch.device('cpu')))\n",
        "test_model(distilled_net,curr)"
      ],
      "metadata": {
        "colab": {
          "base_uri": "https://localhost:8080/"
        },
        "id": "q_MdSlYfsgL3",
        "outputId": "0a6cbb7a-0ef0-4aaa-87b2-aa29aa59a7a8"
      },
      "execution_count": null,
      "outputs": [
        {
          "output_type": "stream",
          "name": "stdout",
          "text": [
            "Accuracy: 97.05%\n",
            "\n",
            "Correct: 9705\n",
            "\n",
            "Total: 10000\n"
          ]
        }
      ]
    },
    {
      "cell_type": "code",
      "source": [
        "  distilled_net = student()\n",
        "distilled_net.load_state_dict(torch.load('distilled_A0_T4.pth',map_location=torch.device('cpu')))\n",
        "test_model(distilled_net,curr)"
      ],
      "metadata": {
        "colab": {
          "base_uri": "https://localhost:8080/"
        },
        "id": "vbpM9yBAsw9J",
        "outputId": "860b344f-9fd3-4a63-f8b4-b8340db4d284"
      },
      "execution_count": null,
      "outputs": [
        {
          "output_type": "stream",
          "name": "stdout",
          "text": [
            "Accuracy: 96.55%\n",
            "\n",
            "Correct: 9655\n",
            "\n",
            "Total: 10000\n"
          ]
        }
      ]
    },
    {
      "cell_type": "code",
      "source": [
        "distilled_net = student()\n",
        "distilled_net.load_state_dict(torch.load('distilled_A0.5_T4.pth',map_location=torch.device('cpu')))\n",
        "test_model(distilled_net,curr)"
      ],
      "metadata": {
        "colab": {
          "base_uri": "https://localhost:8080/"
        },
        "id": "2P5bqfpTs1FB",
        "outputId": "efd9541e-e524-49a8-d304-0a25fabf960b"
      },
      "execution_count": null,
      "outputs": [
        {
          "output_type": "stream",
          "name": "stdout",
          "text": [
            "Accuracy: 96.69%\n",
            "\n",
            "Correct: 9669\n",
            "\n",
            "Total: 10000\n"
          ]
        }
      ]
    },
    {
      "cell_type": "code",
      "source": [
        "distilled_net = student()\n",
        "distilled_net.load_state_dict(torch.load('distilled_A0.5_T35.pth',map_location=torch.device('cpu')))\n",
        "test_model(distilled_net,curr)"
      ],
      "metadata": {
        "colab": {
          "base_uri": "https://localhost:8080/"
        },
        "id": "taRAF_wVtVcT",
        "outputId": "42ee6fe8-9427-49a6-df50-32c4d5ed0354"
      },
      "execution_count": null,
      "outputs": [
        {
          "output_type": "stream",
          "name": "stdout",
          "text": [
            "Accuracy: 96.71%\n",
            "\n",
            "Correct: 9671\n",
            "\n",
            "Total: 10000\n"
          ]
        }
      ]
    },
    {
      "cell_type": "code",
      "source": [
        "distilled_net = student()\n",
        "distilled_net.load_state_dict(torch.load('distilled_A0.5_T3.pth',map_location=torch.device('cpu')))\n",
        "test_model(distilled_net,curr)"
      ],
      "metadata": {
        "colab": {
          "base_uri": "https://localhost:8080/"
        },
        "id": "AHrfYgzNtfIx",
        "outputId": "368c8f17-6d34-4a4a-b380-aabf970b56a5"
      },
      "execution_count": null,
      "outputs": [
        {
          "output_type": "stream",
          "name": "stdout",
          "text": [
            "Accuracy: 97.01%\n",
            "\n",
            "Correct: 9701\n",
            "\n",
            "Total: 10000\n"
          ]
        }
      ]
    },
    {
      "cell_type": "code",
      "source": [
        "distilled_net = student()\n",
        "distilled_net.load_state_dict(torch.load('distilled_A0.5_T25.pth',map_location=torch.device('cpu')))\n",
        "test_model(distilled_net,curr)"
      ],
      "metadata": {
        "colab": {
          "base_uri": "https://localhost:8080/"
        },
        "id": "OxM4WgoutitT",
        "outputId": "67f636ec-8c60-41aa-f4d9-39e9c592fedd"
      },
      "execution_count": null,
      "outputs": [
        {
          "output_type": "stream",
          "name": "stdout",
          "text": [
            "Accuracy: 97.08%\n",
            "\n",
            "Correct: 9708\n",
            "\n",
            "Total: 10000\n"
          ]
        }
      ]
    },
    {
      "cell_type": "code",
      "source": [
        "distilled_net = student()\n",
        "distilled_net.load_state_dict(torch.load('distilled_A0.5_T2.pth',map_location=torch.device('cpu')))\n",
        "test_model(distilled_net,curr)"
      ],
      "metadata": {
        "colab": {
          "base_uri": "https://localhost:8080/"
        },
        "id": "l9DvqX0TtnmC",
        "outputId": "7bd96844-7c21-4f30-c825-903cdeb8130d"
      },
      "execution_count": null,
      "outputs": [
        {
          "output_type": "stream",
          "name": "stdout",
          "text": [
            "Accuracy: 96.97%\n",
            "\n",
            "Correct: 9697\n",
            "\n",
            "Total: 10000\n"
          ]
        }
      ]
    },
    {
      "cell_type": "code",
      "source": [
        "distilled_net = student()\n",
        "distilled_net.load_state_dict(torch.load('distilled_A0.5_T1.pth',map_location=torch.device('cpu')))\n",
        "test_model(distilled_net,curr)"
      ],
      "metadata": {
        "colab": {
          "base_uri": "https://localhost:8080/"
        },
        "id": "1Fwyo4zwtq0k",
        "outputId": "26a2c2c1-14ba-4eef-a5e1-2756f5f635e5"
      },
      "execution_count": null,
      "outputs": [
        {
          "output_type": "stream",
          "name": "stdout",
          "text": [
            "Accuracy: 96.69%\n",
            "\n",
            "Correct: 9669\n",
            "\n",
            "Total: 10000\n"
          ]
        }
      ]
    },
    {
      "cell_type": "code",
      "source": [
        "distilled_net = student()\n",
        "distilled_net.load_state_dict(torch.load('distilled_A0.75_T1.pth',map_location=torch.device('cpu')))\n",
        "test_model(distilled_net,curr)"
      ],
      "metadata": {
        "colab": {
          "base_uri": "https://localhost:8080/"
        },
        "id": "hQSVpPAvtwQB",
        "outputId": "f13f9841-6304-451b-b977-4c6efb6bb27c"
      },
      "execution_count": null,
      "outputs": [
        {
          "output_type": "stream",
          "name": "stdout",
          "text": [
            "Accuracy: 96.76%\n",
            "\n",
            "Correct: 9676\n",
            "\n",
            "Total: 10000\n"
          ]
        }
      ]
    },
    {
      "cell_type": "code",
      "source": [
        "distilled_net = student()\n",
        "distilled_net.load_state_dict(torch.load('distilled_A0.75_T2.pth',map_location=torch.device('cpu')))\n",
        "test_model(distilled_net,curr)"
      ],
      "metadata": {
        "colab": {
          "base_uri": "https://localhost:8080/"
        },
        "id": "azdUmNBYt8cp",
        "outputId": "76ab39d6-1508-420c-e9ea-f98fcd572e9d"
      },
      "execution_count": null,
      "outputs": [
        {
          "output_type": "stream",
          "name": "stdout",
          "text": [
            "Accuracy: 96.78%\n",
            "\n",
            "Correct: 9678\n",
            "\n",
            "Total: 10000\n"
          ]
        }
      ]
    },
    {
      "cell_type": "code",
      "source": [
        "distilled_net = student()\n",
        "distilled_net.load_state_dict(torch.load('distilled_A0.75_T25.pth',map_location=torch.device('cpu')))\n",
        "test_model(distilled_net,curr)"
      ],
      "metadata": {
        "colab": {
          "base_uri": "https://localhost:8080/"
        },
        "id": "mVKnZLndt-Nh",
        "outputId": "cd48b13a-54b4-40ca-9d80-2c798dd6aa54"
      },
      "execution_count": null,
      "outputs": [
        {
          "output_type": "stream",
          "name": "stdout",
          "text": [
            "Accuracy: 96.59%\n",
            "\n",
            "Correct: 9659\n",
            "\n",
            "Total: 10000\n"
          ]
        }
      ]
    },
    {
      "cell_type": "code",
      "source": [
        "distilled_net = student()\n",
        "distilled_net.load_state_dict(torch.load('distilled_A0.75_T3.pth',map_location=torch.device('cpu')))\n",
        "test_model(distilled_net,curr)"
      ],
      "metadata": {
        "colab": {
          "base_uri": "https://localhost:8080/"
        },
        "id": "zU7B8pUYt_Jv",
        "outputId": "496f5433-a4f2-4c4b-ab87-306c43119df1"
      },
      "execution_count": null,
      "outputs": [
        {
          "output_type": "stream",
          "name": "stdout",
          "text": [
            "Accuracy: 96.59%\n",
            "\n",
            "Correct: 9659\n",
            "\n",
            "Total: 10000\n"
          ]
        }
      ]
    },
    {
      "cell_type": "code",
      "source": [
        "distilled_net = student()\n",
        "distilled_net.load_state_dict(torch.load('distilled_A0.75_T35.pth',map_location=torch.device('cpu')))\n",
        "test_model(distilled_net,curr)"
      ],
      "metadata": {
        "colab": {
          "base_uri": "https://localhost:8080/"
        },
        "id": "N7sxWQBduAVp",
        "outputId": "0d67d8f9-fa0a-4bc2-ccdd-cb981dd9deea"
      },
      "execution_count": null,
      "outputs": [
        {
          "output_type": "stream",
          "name": "stdout",
          "text": [
            "Accuracy: 97.06%\n",
            "\n",
            "Correct: 9706\n",
            "\n",
            "Total: 10000\n"
          ]
        }
      ]
    },
    {
      "cell_type": "code",
      "source": [
        "distilled_net = student()\n",
        "distilled_net.load_state_dict(torch.load('distilled_A0.75_T4.pth',map_location=torch.device('cpu')))\n",
        "test_model(distilled_net,curr)"
      ],
      "metadata": {
        "colab": {
          "base_uri": "https://localhost:8080/"
        },
        "id": "p-kDf62zuCBb",
        "outputId": "fe783202-542c-425e-d323-e870736e7cdc"
      },
      "execution_count": null,
      "outputs": [
        {
          "output_type": "stream",
          "name": "stdout",
          "text": [
            "Accuracy: 96.87%\n",
            "\n",
            "Correct: 9687\n",
            "\n",
            "Total: 10000\n"
          ]
        }
      ]
    },
    {
      "cell_type": "code",
      "source": [
        "distilled_net = student()\n",
        "distilled_net.load_state_dict(torch.load('distilled_A0.25_T4.pth',map_location=torch.device('cpu')))\n",
        "test_model(distilled_net,curr)"
      ],
      "metadata": {
        "colab": {
          "base_uri": "https://localhost:8080/"
        },
        "id": "kd6Ax3TCuDjT",
        "outputId": "ce81249f-1c33-48fa-f6d3-c21a300a0aed"
      },
      "execution_count": null,
      "outputs": [
        {
          "output_type": "stream",
          "name": "stdout",
          "text": [
            "Accuracy: 96.90%\n",
            "\n",
            "Correct: 9690\n",
            "\n",
            "Total: 10000\n"
          ]
        }
      ]
    },
    {
      "cell_type": "code",
      "source": [
        "distilled_net = student()\n",
        "distilled_net.load_state_dict(torch.load('distilled_A0.25_T35.pth',map_location=torch.device('cpu')))\n",
        "test_model(distilled_net,curr)"
      ],
      "metadata": {
        "colab": {
          "base_uri": "https://localhost:8080/"
        },
        "id": "k8GUGGGxus40",
        "outputId": "c44b9ed2-027f-4e9b-b64a-f170c2491d27"
      },
      "execution_count": null,
      "outputs": [
        {
          "output_type": "stream",
          "name": "stdout",
          "text": [
            "Accuracy: 97.05%\n",
            "\n",
            "Correct: 9705\n",
            "\n",
            "Total: 10000\n"
          ]
        }
      ]
    },
    {
      "cell_type": "code",
      "source": [
        "distilled_net = student()\n",
        "distilled_net.load_state_dict(torch.load('distilled_A0.25_T3.pth',map_location=torch.device('cpu')))\n",
        "test_model(distilled_net,curr)"
      ],
      "metadata": {
        "colab": {
          "base_uri": "https://localhost:8080/"
        },
        "id": "OcFMMkBZu1CU",
        "outputId": "d4f9078e-997f-4486-84e5-83cda0dbe8c8"
      },
      "execution_count": null,
      "outputs": [
        {
          "output_type": "stream",
          "name": "stdout",
          "text": [
            "Accuracy: 96.85%\n",
            "\n",
            "Correct: 9685\n",
            "\n",
            "Total: 10000\n"
          ]
        }
      ]
    },
    {
      "cell_type": "code",
      "source": [
        "distilled_net = student()\n",
        "distilled_net.load_state_dict(torch.load('distilled_A0.25_T25.pth',map_location=torch.device('cpu')))\n",
        "test_model(distilled_net,curr)"
      ],
      "metadata": {
        "colab": {
          "base_uri": "https://localhost:8080/"
        },
        "id": "fgFx02-jvekX",
        "outputId": "cf9b9710-b2be-4dc5-d117-a926284cb621"
      },
      "execution_count": null,
      "outputs": [
        {
          "output_type": "stream",
          "name": "stdout",
          "text": [
            "Accuracy: 96.99%\n",
            "\n",
            "Correct: 9699\n",
            "\n",
            "Total: 10000\n"
          ]
        }
      ]
    },
    {
      "cell_type": "code",
      "source": [
        "distilled_net = student()\n",
        "distilled_net.load_state_dict(torch.load('distilled_A0.25_T2.pth',map_location=torch.device('cpu')))\n",
        "test_model(distilled_net,curr)"
      ],
      "metadata": {
        "colab": {
          "base_uri": "https://localhost:8080/"
        },
        "id": "nYsq6q2zvje1",
        "outputId": "ad78330d-ea9e-48a5-b4d9-c593bf94e8fd"
      },
      "execution_count": null,
      "outputs": [
        {
          "output_type": "stream",
          "name": "stdout",
          "text": [
            "Accuracy: 96.94%\n",
            "\n",
            "Correct: 9694\n",
            "\n",
            "Total: 10000\n"
          ]
        }
      ]
    },
    {
      "cell_type": "code",
      "source": [
        "distilled_net = student()\n",
        "distilled_net.load_state_dict(torch.load('distilled_A0.25_T1.pth',map_location=torch.device('cpu')))\n",
        "test_model(distilled_net,curr)"
      ],
      "metadata": {
        "colab": {
          "base_uri": "https://localhost:8080/"
        },
        "id": "hSKFLTqzvrdE",
        "outputId": "0151bef2-cf0e-4db1-cc0c-c2faad9abf15"
      },
      "execution_count": null,
      "outputs": [
        {
          "output_type": "stream",
          "name": "stdout",
          "text": [
            "Accuracy: 96.90%\n",
            "\n",
            "Correct: 9690\n",
            "\n",
            "Total: 10000\n"
          ]
        }
      ]
    },
    {
      "cell_type": "code",
      "source": [],
      "metadata": {
        "id": "3NyDZzMEvvyi"
      },
      "execution_count": null,
      "outputs": []
    }
  ],
  "metadata": {
    "colab": {
      "provenance": []
    },
    "kernelspec": {
      "display_name": "Python 3",
      "name": "python3"
    },
    "language_info": {
      "name": "python"
    }
  },
  "nbformat": 4,
  "nbformat_minor": 0
}